{
 "cells": [
  {
   "cell_type": "code",
   "execution_count": 1,
   "id": "175ac896",
   "metadata": {
    "_cell_guid": "b1076dfc-b9ad-4769-8c92-a6c4dae69d19",
    "_uuid": "8f2839f25d086af736a60e9eeb907d3b93b6e0e5",
    "execution": {
     "iopub.execute_input": "2025-01-05T22:37:00.254101Z",
     "iopub.status.busy": "2025-01-05T22:37:00.253693Z",
     "iopub.status.idle": "2025-01-05T22:37:00.642843Z",
     "shell.execute_reply": "2025-01-05T22:37:00.641603Z"
    },
    "papermill": {
     "duration": 0.397028,
     "end_time": "2025-01-05T22:37:00.644622",
     "exception": false,
     "start_time": "2025-01-05T22:37:00.247594",
     "status": "completed"
    },
    "tags": []
   },
   "outputs": [
    {
     "name": "stdout",
     "output_type": "stream",
     "text": [
      "/kaggle/input/titanic/train.csv\n",
      "/kaggle/input/titanic/test.csv\n",
      "/kaggle/input/titanic/gender_submission.csv\n"
     ]
    }
   ],
   "source": [
    "# This Python 3 environment comes with many helpful analytics libraries installed\n",
    "# It is defined by the kaggle/python Docker image: https://github.com/kaggle/docker-python\n",
    "# For example, here's several helpful packages to load\n",
    "\n",
    "import numpy as np # linear algebra\n",
    "import pandas as pd # data processing, CSV file I/O (e.g. pd.read_csv)\n",
    "\n",
    "# Input data files are available in the read-only \"../input/\" directory\n",
    "# For example, running this (by clicking run or pressing Shift+Enter) will list all files under the input directory\n",
    "\n",
    "import os\n",
    "for dirname, _, filenames in os.walk('/kaggle/input'):\n",
    "    for filename in filenames:\n",
    "        print(os.path.join(dirname, filename))\n",
    "\n",
    "# You can write up to 20GB to the current directory (/kaggle/working/) that gets preserved as output when you create a version using \"Save & Run All\" \n",
    "# You can also write temporary files to /kaggle/temp/, but they won't be saved outside of the current session"
   ]
  },
  {
   "cell_type": "code",
   "execution_count": 2,
   "id": "5a2ecc11",
   "metadata": {
    "execution": {
     "iopub.execute_input": "2025-01-05T22:37:00.655364Z",
     "iopub.status.busy": "2025-01-05T22:37:00.654781Z",
     "iopub.status.idle": "2025-01-05T22:37:15.094563Z",
     "shell.execute_reply": "2025-01-05T22:37:15.093432Z"
    },
    "papermill": {
     "duration": 14.447199,
     "end_time": "2025-01-05T22:37:15.096588",
     "exception": false,
     "start_time": "2025-01-05T22:37:00.649389",
     "status": "completed"
    },
    "tags": []
   },
   "outputs": [],
   "source": [
    "from torch import tensor\n",
    "import torch\n",
    "import torch.nn as nn\n",
    "import torch.optim as optim\n",
    "from torch.utils.tensorboard import SummaryWriter\n",
    "from sklearn.model_selection import train_test_split\n",
    "from datetime import datetime"
   ]
  },
  {
   "cell_type": "code",
   "execution_count": 3,
   "id": "9c7024a2",
   "metadata": {
    "execution": {
     "iopub.execute_input": "2025-01-05T22:37:15.106998Z",
     "iopub.status.busy": "2025-01-05T22:37:15.106344Z",
     "iopub.status.idle": "2025-01-05T22:37:15.137310Z",
     "shell.execute_reply": "2025-01-05T22:37:15.136055Z"
    },
    "papermill": {
     "duration": 0.038185,
     "end_time": "2025-01-05T22:37:15.139323",
     "exception": false,
     "start_time": "2025-01-05T22:37:15.101138",
     "status": "completed"
    },
    "tags": []
   },
   "outputs": [
    {
     "data": {
      "text/plain": [
       "PassengerId      0\n",
       "Survived         0\n",
       "Pclass           0\n",
       "Name             0\n",
       "Sex              0\n",
       "Age            177\n",
       "SibSp            0\n",
       "Parch            0\n",
       "Ticket           0\n",
       "Fare             0\n",
       "Cabin          687\n",
       "Embarked         2\n",
       "dtype: int64"
      ]
     },
     "execution_count": 3,
     "metadata": {},
     "output_type": "execute_result"
    }
   ],
   "source": [
    "df = pd.read_csv(\"/kaggle/input/titanic/train.csv\")\n",
    "df.isna().sum()"
   ]
  },
  {
   "cell_type": "code",
   "execution_count": 4,
   "id": "12f51799",
   "metadata": {
    "execution": {
     "iopub.execute_input": "2025-01-05T22:37:15.149818Z",
     "iopub.status.busy": "2025-01-05T22:37:15.149448Z",
     "iopub.status.idle": "2025-01-05T22:37:15.181017Z",
     "shell.execute_reply": "2025-01-05T22:37:15.180029Z"
    },
    "papermill": {
     "duration": 0.038672,
     "end_time": "2025-01-05T22:37:15.182790",
     "exception": false,
     "start_time": "2025-01-05T22:37:15.144118",
     "status": "completed"
    },
    "tags": []
   },
   "outputs": [
    {
     "data": {
      "text/plain": [
       "PassengerId    0\n",
       "Survived       0\n",
       "Pclass         0\n",
       "Name           0\n",
       "Sex            0\n",
       "Age            0\n",
       "SibSp          0\n",
       "Parch          0\n",
       "Ticket         0\n",
       "Fare           0\n",
       "Cabin          0\n",
       "Embarked       0\n",
       "dtype: int64"
      ]
     },
     "execution_count": 4,
     "metadata": {},
     "output_type": "execute_result"
    }
   ],
   "source": [
    "modes = df.mode().iloc[0]\n",
    "df.fillna(modes, inplace=True)\n",
    "df.isna().sum()"
   ]
  },
  {
   "cell_type": "code",
   "execution_count": 5,
   "id": "ebb29693",
   "metadata": {
    "execution": {
     "iopub.execute_input": "2025-01-05T22:37:15.193291Z",
     "iopub.status.busy": "2025-01-05T22:37:15.192884Z",
     "iopub.status.idle": "2025-01-05T22:37:15.198300Z",
     "shell.execute_reply": "2025-01-05T22:37:15.197424Z"
    },
    "papermill": {
     "duration": 0.012308,
     "end_time": "2025-01-05T22:37:15.199792",
     "exception": false,
     "start_time": "2025-01-05T22:37:15.187484",
     "status": "completed"
    },
    "tags": []
   },
   "outputs": [],
   "source": [
    "df['LogFare'] = np.log(df['Fare']+1)"
   ]
  },
  {
   "cell_type": "code",
   "execution_count": 6,
   "id": "7474558d",
   "metadata": {
    "execution": {
     "iopub.execute_input": "2025-01-05T22:37:15.210355Z",
     "iopub.status.busy": "2025-01-05T22:37:15.209914Z",
     "iopub.status.idle": "2025-01-05T22:37:15.228048Z",
     "shell.execute_reply": "2025-01-05T22:37:15.227016Z"
    },
    "papermill": {
     "duration": 0.025378,
     "end_time": "2025-01-05T22:37:15.229853",
     "exception": false,
     "start_time": "2025-01-05T22:37:15.204475",
     "status": "completed"
    },
    "tags": []
   },
   "outputs": [],
   "source": [
    "df = pd.get_dummies(df, columns=[\"Sex\",\"Pclass\",\"Embarked\"])\n",
    "added_cols = ['Sex_male', 'Sex_female', 'Pclass_1', 'Pclass_2', 'Pclass_3', 'Embarked_C', 'Embarked_Q', 'Embarked_S']"
   ]
  },
  {
   "cell_type": "code",
   "execution_count": 7,
   "id": "8bbfccdd",
   "metadata": {
    "execution": {
     "iopub.execute_input": "2025-01-05T22:37:15.240911Z",
     "iopub.status.busy": "2025-01-05T22:37:15.240520Z",
     "iopub.status.idle": "2025-01-05T22:37:15.288081Z",
     "shell.execute_reply": "2025-01-05T22:37:15.286994Z"
    },
    "papermill": {
     "duration": 0.05525,
     "end_time": "2025-01-05T22:37:15.289977",
     "exception": false,
     "start_time": "2025-01-05T22:37:15.234727",
     "status": "completed"
    },
    "tags": []
   },
   "outputs": [],
   "source": [
    "t_dep = tensor(df.Survived)\n",
    "indep_cols = ['Age', 'SibSp', 'Parch', 'LogFare'] + added_cols\n",
    "df[indep_cols] = df[indep_cols].apply(lambda col: col.astype(int) if col.dtypes == 'bool' else col)\n",
    "t_indep = tensor(df[indep_cols].values, dtype=torch.float)"
   ]
  },
  {
   "cell_type": "code",
   "execution_count": 8,
   "id": "3910e234",
   "metadata": {
    "execution": {
     "iopub.execute_input": "2025-01-05T22:37:15.300858Z",
     "iopub.status.busy": "2025-01-05T22:37:15.300492Z",
     "iopub.status.idle": "2025-01-05T22:37:15.320718Z",
     "shell.execute_reply": "2025-01-05T22:37:15.319810Z"
    },
    "papermill": {
     "duration": 0.027958,
     "end_time": "2025-01-05T22:37:15.322654",
     "exception": false,
     "start_time": "2025-01-05T22:37:15.294696",
     "status": "completed"
    },
    "tags": []
   },
   "outputs": [],
   "source": [
    "trn_indep, val_indep, trn_dep, val_dep = train_test_split(\n",
    "    t_indep, \n",
    "    t_dep, \n",
    "    test_size=0.2,\n",
    "    random_state=42,\n",
    ")"
   ]
  },
  {
   "cell_type": "code",
   "execution_count": 9,
   "id": "56705ca0",
   "metadata": {
    "execution": {
     "iopub.execute_input": "2025-01-05T22:37:15.333112Z",
     "iopub.status.busy": "2025-01-05T22:37:15.332683Z",
     "iopub.status.idle": "2025-01-05T22:37:15.337885Z",
     "shell.execute_reply": "2025-01-05T22:37:15.337088Z"
    },
    "papermill": {
     "duration": 0.012117,
     "end_time": "2025-01-05T22:37:15.339518",
     "exception": false,
     "start_time": "2025-01-05T22:37:15.327401",
     "status": "completed"
    },
    "tags": []
   },
   "outputs": [],
   "source": [
    "class titanicModel(torch.nn.Module):\n",
    "    def __init__(self, input_dim):\n",
    "        super(titanicModel, self).__init__()\n",
    "        self.model = nn.Sequential(\n",
    "            nn.Linear(input_dim, 64),\n",
    "            nn.ReLU(),\n",
    "            nn.Linear(64, 32),\n",
    "            nn.ReLU(),\n",
    "            nn.Linear(32, 1),\n",
    "            nn.Sigmoid()\n",
    "\n",
    "        )\n",
    "\n",
    "    def forward(self, x):\n",
    "        return self.model(x)"
   ]
  },
  {
   "cell_type": "code",
   "execution_count": 10,
   "id": "ce4e6d7f",
   "metadata": {
    "execution": {
     "iopub.execute_input": "2025-01-05T22:37:15.349838Z",
     "iopub.status.busy": "2025-01-05T22:37:15.349516Z",
     "iopub.status.idle": "2025-01-05T22:37:15.373211Z",
     "shell.execute_reply": "2025-01-05T22:37:15.372048Z"
    },
    "papermill": {
     "duration": 0.030927,
     "end_time": "2025-01-05T22:37:15.375126",
     "exception": false,
     "start_time": "2025-01-05T22:37:15.344199",
     "status": "completed"
    },
    "tags": []
   },
   "outputs": [],
   "source": [
    "device = torch.device(\"cuda\" if torch.cuda.is_available() else \"cpu\")\n",
    "model = titanicModel(trn_indep.shape[1]).to(device)"
   ]
  },
  {
   "cell_type": "code",
   "execution_count": 11,
   "id": "e5985114",
   "metadata": {
    "execution": {
     "iopub.execute_input": "2025-01-05T22:37:15.385953Z",
     "iopub.status.busy": "2025-01-05T22:37:15.385579Z",
     "iopub.status.idle": "2025-01-05T22:37:17.012176Z",
     "shell.execute_reply": "2025-01-05T22:37:17.011080Z"
    },
    "papermill": {
     "duration": 1.634345,
     "end_time": "2025-01-05T22:37:17.014361",
     "exception": false,
     "start_time": "2025-01-05T22:37:15.380016",
     "status": "completed"
    },
    "tags": []
   },
   "outputs": [],
   "source": [
    "loss_fn = nn.MSELoss()\n",
    "\n",
    "optimizer = optim.Adam(model.parameters(), lr=0.001)"
   ]
  },
  {
   "cell_type": "code",
   "execution_count": 12,
   "id": "edc3fdc6",
   "metadata": {
    "execution": {
     "iopub.execute_input": "2025-01-05T22:37:17.025567Z",
     "iopub.status.busy": "2025-01-05T22:37:17.024861Z",
     "iopub.status.idle": "2025-01-05T22:37:17.030433Z",
     "shell.execute_reply": "2025-01-05T22:37:17.029403Z"
    },
    "papermill": {
     "duration": 0.012987,
     "end_time": "2025-01-05T22:37:17.032207",
     "exception": false,
     "start_time": "2025-01-05T22:37:17.019220",
     "status": "completed"
    },
    "tags": []
   },
   "outputs": [],
   "source": [
    "def one_epoch():\n",
    "    inputs = trn_indep.to(device)\n",
    "    labels = trn_dep.float()[:,None].to(device)\n",
    "\n",
    "    \n",
    "    optimizer.zero_grad()\n",
    "    \n",
    "    outputs = model(inputs)\n",
    "    loss = loss_fn(outputs, labels)\n",
    "    loss.backward()\n",
    "    optimizer.step()\n",
    "\n",
    "    return loss.item()"
   ]
  },
  {
   "cell_type": "code",
   "execution_count": 13,
   "id": "c38069e7",
   "metadata": {
    "execution": {
     "iopub.execute_input": "2025-01-05T22:37:17.042900Z",
     "iopub.status.busy": "2025-01-05T22:37:17.042541Z",
     "iopub.status.idle": "2025-01-05T22:37:17.047251Z",
     "shell.execute_reply": "2025-01-05T22:37:17.046197Z"
    },
    "papermill": {
     "duration": 0.0121,
     "end_time": "2025-01-05T22:37:17.049024",
     "exception": false,
     "start_time": "2025-01-05T22:37:17.036924",
     "status": "completed"
    },
    "tags": []
   },
   "outputs": [],
   "source": [
    "def acc(labels, outputs): return (labels.bool()==(outputs>0.5)).float().mean()"
   ]
  },
  {
   "cell_type": "code",
   "execution_count": 14,
   "id": "6236035b",
   "metadata": {
    "execution": {
     "iopub.execute_input": "2025-01-05T22:37:17.059543Z",
     "iopub.status.busy": "2025-01-05T22:37:17.059155Z",
     "iopub.status.idle": "2025-01-05T22:37:17.067637Z",
     "shell.execute_reply": "2025-01-05T22:37:17.066595Z"
    },
    "papermill": {
     "duration": 0.015819,
     "end_time": "2025-01-05T22:37:17.069549",
     "exception": false,
     "start_time": "2025-01-05T22:37:17.053730",
     "status": "completed"
    },
    "tags": []
   },
   "outputs": [],
   "source": [
    "timestamp = datetime.now().strftime('%Y%m%d_%H%M%S')\n",
    "writer = SummaryWriter('runs/titanicM_{}'.format(timestamp))\n",
    "\n",
    "def train(epochs=75):\n",
    "    losses = []\n",
    "\n",
    "    for epoch in range(epochs):\n",
    "        print(f'EPOCH {epoch + 1}')\n",
    "\n",
    "        model.train()\n",
    "        trnloss = one_epoch()\n",
    "\n",
    "        losses.append(trnloss)\n",
    "\n",
    "\n",
    "        model.eval()\n",
    "        with torch.no_grad():\n",
    "            vinputs = val_indep\n",
    "            vlabels = val_dep.float()[:,None]\n",
    "            voutputs = model(vinputs)\n",
    "            vloss = loss_fn(voutputs, vlabels)\n",
    "\n",
    "            accuracy = acc(vlabels, voutputs)\n",
    "\n",
    "\n",
    "        print(f'LOSS train {trnloss} valid {vloss} vaccuarcy {accuracy}')\n",
    "        \n",
    "        writer.add_scalars('Training vs. Validation Loss',\n",
    "                           { 'Training' : trnloss, 'Validation' : vloss, 'Validation accuracy': accuracy },\n",
    "                           epoch + 1,)\n",
    "        writer.flush()\n",
    "        \n",
    "    return losses"
   ]
  },
  {
   "cell_type": "code",
   "execution_count": 15,
   "id": "856c0d7c",
   "metadata": {
    "execution": {
     "iopub.execute_input": "2025-01-05T22:37:17.080399Z",
     "iopub.status.busy": "2025-01-05T22:37:17.080033Z",
     "iopub.status.idle": "2025-01-05T22:37:17.477558Z",
     "shell.execute_reply": "2025-01-05T22:37:17.476477Z"
    },
    "papermill": {
     "duration": 0.405213,
     "end_time": "2025-01-05T22:37:17.479534",
     "exception": false,
     "start_time": "2025-01-05T22:37:17.074321",
     "status": "completed"
    },
    "tags": []
   },
   "outputs": [
    {
     "name": "stdout",
     "output_type": "stream",
     "text": [
      "EPOCH 1\n",
      "LOSS train 0.23450608551502228 valid 0.23581378161907196 vaccuarcy 0.6033519506454468\n",
      "EPOCH 2\n",
      "LOSS train 0.2321273237466812 valid 0.23394189774990082 vaccuarcy 0.6033519506454468\n",
      "EPOCH 3\n",
      "LOSS train 0.23061829805374146 valid 0.2322687953710556 vaccuarcy 0.6145251393318176\n",
      "EPOCH 4\n",
      "LOSS train 0.2294193059206009 valid 0.23090769350528717 vaccuarcy 0.6145251393318176\n",
      "EPOCH 5\n",
      "LOSS train 0.22850961983203888 valid 0.22976267337799072 vaccuarcy 0.6145251393318176\n",
      "EPOCH 6\n",
      "LOSS train 0.22762347757816315 valid 0.22870109975337982 vaccuarcy 0.6145251393318176\n",
      "EPOCH 7\n",
      "LOSS train 0.2266264706850052 valid 0.22765256464481354 vaccuarcy 0.6145251393318176\n",
      "EPOCH 8\n",
      "LOSS train 0.225544273853302 valid 0.22654293477535248 vaccuarcy 0.6145251393318176\n",
      "EPOCH 9\n",
      "LOSS train 0.22444692254066467 valid 0.2254246175289154 vaccuarcy 0.6145251393318176\n",
      "EPOCH 10\n",
      "LOSS train 0.22342315316200256 valid 0.22426219284534454 vaccuarcy 0.6145251393318176\n",
      "EPOCH 11\n",
      "LOSS train 0.22242926061153412 valid 0.2231031209230423 vaccuarcy 0.6089385747909546\n",
      "EPOCH 12\n",
      "LOSS train 0.22139932215213776 valid 0.22194744646549225 vaccuarcy 0.6089385747909546\n",
      "EPOCH 13\n",
      "LOSS train 0.22032426297664642 valid 0.22075684368610382 vaccuarcy 0.6145251393318176\n",
      "EPOCH 14\n",
      "LOSS train 0.21922087669372559 valid 0.21951055526733398 vaccuarcy 0.6145251393318176\n",
      "EPOCH 15\n",
      "LOSS train 0.2180919051170349 valid 0.21817882359027863 vaccuarcy 0.6256983280181885\n",
      "EPOCH 16\n",
      "LOSS train 0.21693117916584015 valid 0.21670040488243103 vaccuarcy 0.6536312699317932\n",
      "EPOCH 17\n",
      "LOSS train 0.21571534872055054 valid 0.2150876522064209 vaccuarcy 0.6648044586181641\n",
      "EPOCH 18\n",
      "LOSS train 0.21443377435207367 valid 0.21338632702827454 vaccuarcy 0.6759776473045349\n",
      "EPOCH 19\n",
      "LOSS train 0.21309511363506317 valid 0.21154800057411194 vaccuarcy 0.6815642714500427\n",
      "EPOCH 20\n",
      "LOSS train 0.21172092854976654 valid 0.20979396998882294 vaccuarcy 0.6983240246772766\n",
      "EPOCH 21\n",
      "LOSS train 0.21034032106399536 valid 0.20807921886444092 vaccuarcy 0.7150837779045105\n",
      "EPOCH 22\n",
      "LOSS train 0.2089727520942688 valid 0.20635564625263214 vaccuarcy 0.7262569665908813\n",
      "EPOCH 23\n",
      "LOSS train 0.20747381448745728 valid 0.20460736751556396 vaccuarcy 0.7262569665908813\n",
      "EPOCH 24\n",
      "LOSS train 0.20592889189720154 valid 0.20283065736293793 vaccuarcy 0.74301677942276\n",
      "EPOCH 25\n",
      "LOSS train 0.2043580859899521 valid 0.20099610090255737 vaccuarcy 0.748603343963623\n",
      "EPOCH 26\n",
      "LOSS train 0.20276230573654175 valid 0.19910204410552979 vaccuarcy 0.748603343963623\n",
      "EPOCH 27\n",
      "LOSS train 0.20113207399845123 valid 0.1971597969532013 vaccuarcy 0.748603343963623\n",
      "EPOCH 28\n",
      "LOSS train 0.19943250715732574 valid 0.19513826072216034 vaccuarcy 0.7541899681091309\n",
      "EPOCH 29\n",
      "LOSS train 0.19767062366008759 valid 0.1929873526096344 vaccuarcy 0.7597765326499939\n",
      "EPOCH 30\n",
      "LOSS train 0.195859894156456 valid 0.19075021147727966 vaccuarcy 0.7653631567955017\n",
      "EPOCH 31\n",
      "LOSS train 0.19398224353790283 valid 0.18842896819114685 vaccuarcy 0.7597765326499939\n",
      "EPOCH 32\n",
      "LOSS train 0.19202296435832977 valid 0.18581748008728027 vaccuarcy 0.7653631567955017\n",
      "EPOCH 33\n",
      "LOSS train 0.18987543880939484 valid 0.18326371908187866 vaccuarcy 0.7653631567955017\n",
      "EPOCH 34\n",
      "LOSS train 0.18766291439533234 valid 0.18086446821689606 vaccuarcy 0.7653631567955017\n",
      "EPOCH 35\n",
      "LOSS train 0.18556320667266846 valid 0.17873425781726837 vaccuarcy 0.7709497213363647\n",
      "EPOCH 36\n",
      "LOSS train 0.18363845348358154 valid 0.17666923999786377 vaccuarcy 0.7709497213363647\n",
      "EPOCH 37\n",
      "LOSS train 0.18174010515213013 valid 0.17458833754062653 vaccuarcy 0.7709497213363647\n",
      "EPOCH 38\n",
      "LOSS train 0.17983686923980713 valid 0.1725182980298996 vaccuarcy 0.7877094745635986\n",
      "EPOCH 39\n",
      "LOSS train 0.17792606353759766 valid 0.17049238085746765 vaccuarcy 0.7877094745635986\n",
      "EPOCH 40\n",
      "LOSS train 0.1760212928056717 valid 0.16848638653755188 vaccuarcy 0.7932960987091064\n",
      "EPOCH 41\n",
      "LOSS train 0.1741214096546173 valid 0.16648897528648376 vaccuarcy 0.826815664768219\n",
      "EPOCH 42\n",
      "LOSS train 0.1722317337989807 valid 0.16450679302215576 vaccuarcy 0.826815664768219\n",
      "EPOCH 43\n",
      "LOSS train 0.17034973204135895 valid 0.16254720091819763 vaccuarcy 0.832402229309082\n",
      "EPOCH 44\n",
      "LOSS train 0.16846594214439392 valid 0.1605769842863083 vaccuarcy 0.832402229309082\n",
      "EPOCH 45\n",
      "LOSS train 0.16659320890903473 valid 0.15862207114696503 vaccuarcy 0.8212290406227112\n",
      "EPOCH 46\n",
      "LOSS train 0.16471391916275024 valid 0.15670710802078247 vaccuarcy 0.826815664768219\n",
      "EPOCH 47\n",
      "LOSS train 0.16281680762767792 valid 0.15480884909629822 vaccuarcy 0.826815664768219\n",
      "EPOCH 48\n",
      "LOSS train 0.16087569296360016 valid 0.15310050547122955 vaccuarcy 0.826815664768219\n",
      "EPOCH 49\n",
      "LOSS train 0.1590747833251953 valid 0.1514950394630432 vaccuarcy 0.8212290406227112\n",
      "EPOCH 50\n",
      "LOSS train 0.15735900402069092 valid 0.15000110864639282 vaccuarcy 0.8156424760818481\n",
      "EPOCH 51\n",
      "LOSS train 0.15570636093616486 valid 0.14851407706737518 vaccuarcy 0.8212290406227112\n",
      "EPOCH 52\n",
      "LOSS train 0.1540982574224472 valid 0.14720764756202698 vaccuarcy 0.8156424760818481\n",
      "EPOCH 53\n",
      "LOSS train 0.15257084369659424 valid 0.1458704024553299 vaccuarcy 0.8156424760818481\n",
      "EPOCH 54\n",
      "LOSS train 0.15101252496242523 valid 0.14452427625656128 vaccuarcy 0.8212290406227112\n",
      "EPOCH 55\n",
      "LOSS train 0.14950522780418396 valid 0.14338117837905884 vaccuarcy 0.8212290406227112\n",
      "EPOCH 56\n",
      "LOSS train 0.1480385810136795 valid 0.14227014780044556 vaccuarcy 0.8212290406227112\n",
      "EPOCH 57\n",
      "LOSS train 0.14663037657737732 valid 0.1412588357925415 vaccuarcy 0.8212290406227112\n",
      "EPOCH 58\n",
      "LOSS train 0.1452970653772354 valid 0.14038750529289246 vaccuarcy 0.8212290406227112\n",
      "EPOCH 59\n",
      "LOSS train 0.14402219653129578 valid 0.13951151072978973 vaccuarcy 0.8212290406227112\n",
      "EPOCH 60\n",
      "LOSS train 0.1428063064813614 valid 0.13878154754638672 vaccuarcy 0.8100558519363403\n",
      "EPOCH 61\n",
      "LOSS train 0.1416613608598709 valid 0.13807451725006104 vaccuarcy 0.8044692873954773\n",
      "EPOCH 62\n",
      "LOSS train 0.14057248830795288 valid 0.13747015595436096 vaccuarcy 0.8044692873954773\n",
      "EPOCH 63\n",
      "LOSS train 0.1395401507616043 valid 0.13695168495178223 vaccuarcy 0.8044692873954773\n",
      "EPOCH 64\n",
      "LOSS train 0.13855861127376556 valid 0.13645072281360626 vaccuarcy 0.8044692873954773\n",
      "EPOCH 65\n",
      "LOSS train 0.13762742280960083 valid 0.13614453375339508 vaccuarcy 0.7988826632499695\n",
      "EPOCH 66\n",
      "LOSS train 0.1367449164390564 valid 0.13568921387195587 vaccuarcy 0.7988826632499695\n",
      "EPOCH 67\n",
      "LOSS train 0.13591814041137695 valid 0.13564272224903107 vaccuarcy 0.7988826632499695\n",
      "EPOCH 68\n",
      "LOSS train 0.13514019548892975 valid 0.13499583303928375 vaccuarcy 0.8044692873954773\n",
      "EPOCH 69\n",
      "LOSS train 0.13442735373973846 valid 0.13554365932941437 vaccuarcy 0.8044692873954773\n",
      "EPOCH 70\n",
      "LOSS train 0.13377805054187775 valid 0.13442297279834747 vaccuarcy 0.7988826632499695\n",
      "EPOCH 71\n",
      "LOSS train 0.1331876665353775 valid 0.13513623178005219 vaccuarcy 0.8044692873954773\n",
      "EPOCH 72\n",
      "LOSS train 0.132525235414505 valid 0.1346186101436615 vaccuarcy 0.7988826632499695\n",
      "EPOCH 73\n",
      "LOSS train 0.13192662596702576 valid 0.13407263159751892 vaccuarcy 0.7988826632499695\n",
      "EPOCH 74\n",
      "LOSS train 0.13146214187145233 valid 0.13481304049491882 vaccuarcy 0.7988826632499695\n",
      "EPOCH 75\n",
      "LOSS train 0.13097451627254486 valid 0.13422439992427826 vaccuarcy 0.7988826632499695\n"
     ]
    },
    {
     "data": {
      "text/plain": [
       "[0.23450608551502228,\n",
       " 0.2321273237466812,\n",
       " 0.23061829805374146,\n",
       " 0.2294193059206009,\n",
       " 0.22850961983203888,\n",
       " 0.22762347757816315,\n",
       " 0.2266264706850052,\n",
       " 0.225544273853302,\n",
       " 0.22444692254066467,\n",
       " 0.22342315316200256,\n",
       " 0.22242926061153412,\n",
       " 0.22139932215213776,\n",
       " 0.22032426297664642,\n",
       " 0.21922087669372559,\n",
       " 0.2180919051170349,\n",
       " 0.21693117916584015,\n",
       " 0.21571534872055054,\n",
       " 0.21443377435207367,\n",
       " 0.21309511363506317,\n",
       " 0.21172092854976654,\n",
       " 0.21034032106399536,\n",
       " 0.2089727520942688,\n",
       " 0.20747381448745728,\n",
       " 0.20592889189720154,\n",
       " 0.2043580859899521,\n",
       " 0.20276230573654175,\n",
       " 0.20113207399845123,\n",
       " 0.19943250715732574,\n",
       " 0.19767062366008759,\n",
       " 0.195859894156456,\n",
       " 0.19398224353790283,\n",
       " 0.19202296435832977,\n",
       " 0.18987543880939484,\n",
       " 0.18766291439533234,\n",
       " 0.18556320667266846,\n",
       " 0.18363845348358154,\n",
       " 0.18174010515213013,\n",
       " 0.17983686923980713,\n",
       " 0.17792606353759766,\n",
       " 0.1760212928056717,\n",
       " 0.1741214096546173,\n",
       " 0.1722317337989807,\n",
       " 0.17034973204135895,\n",
       " 0.16846594214439392,\n",
       " 0.16659320890903473,\n",
       " 0.16471391916275024,\n",
       " 0.16281680762767792,\n",
       " 0.16087569296360016,\n",
       " 0.1590747833251953,\n",
       " 0.15735900402069092,\n",
       " 0.15570636093616486,\n",
       " 0.1540982574224472,\n",
       " 0.15257084369659424,\n",
       " 0.15101252496242523,\n",
       " 0.14950522780418396,\n",
       " 0.1480385810136795,\n",
       " 0.14663037657737732,\n",
       " 0.1452970653772354,\n",
       " 0.14402219653129578,\n",
       " 0.1428063064813614,\n",
       " 0.1416613608598709,\n",
       " 0.14057248830795288,\n",
       " 0.1395401507616043,\n",
       " 0.13855861127376556,\n",
       " 0.13762742280960083,\n",
       " 0.1367449164390564,\n",
       " 0.13591814041137695,\n",
       " 0.13514019548892975,\n",
       " 0.13442735373973846,\n",
       " 0.13377805054187775,\n",
       " 0.1331876665353775,\n",
       " 0.132525235414505,\n",
       " 0.13192662596702576,\n",
       " 0.13146214187145233,\n",
       " 0.13097451627254486]"
      ]
     },
     "execution_count": 15,
     "metadata": {},
     "output_type": "execute_result"
    }
   ],
   "source": [
    "train()"
   ]
  },
  {
   "cell_type": "code",
   "execution_count": 16,
   "id": "b15c369d",
   "metadata": {
    "execution": {
     "iopub.execute_input": "2025-01-05T22:37:17.490960Z",
     "iopub.status.busy": "2025-01-05T22:37:17.490611Z",
     "iopub.status.idle": "2025-01-05T22:37:17.520373Z",
     "shell.execute_reply": "2025-01-05T22:37:17.519374Z"
    },
    "papermill": {
     "duration": 0.037726,
     "end_time": "2025-01-05T22:37:17.522332",
     "exception": false,
     "start_time": "2025-01-05T22:37:17.484606",
     "status": "completed"
    },
    "tags": []
   },
   "outputs": [],
   "source": [
    "tst_df = pd.read_csv(\"/kaggle/input/titanic/test.csv\")\n",
    "tst_df['Fare'] = tst_df.Fare.fillna(0)\n",
    "tst_df.fillna(modes, inplace=True)\n",
    "tst_df['LogFare'] = np.log(tst_df['Fare']+1)\n",
    "tst_df = pd.get_dummies(tst_df, columns=[\"Sex\",\"Pclass\",\"Embarked\"])\n",
    "tst_df[indep_cols] = tst_df[indep_cols].apply(lambda col: col.astype(int) if col.dtypes == 'bool' else col)\n",
    "\n",
    "tst_indep = tensor(tst_df[indep_cols].values, dtype=torch.float)\n",
    "vals,indices = t_indep.max(dim=0)\n",
    "tst_indep = tst_indep / vals"
   ]
  },
  {
   "cell_type": "code",
   "execution_count": 17,
   "id": "30744a38",
   "metadata": {
    "execution": {
     "iopub.execute_input": "2025-01-05T22:37:17.533609Z",
     "iopub.status.busy": "2025-01-05T22:37:17.533277Z",
     "iopub.status.idle": "2025-01-05T22:37:17.547352Z",
     "shell.execute_reply": "2025-01-05T22:37:17.546334Z"
    },
    "papermill": {
     "duration": 0.021852,
     "end_time": "2025-01-05T22:37:17.549352",
     "exception": false,
     "start_time": "2025-01-05T22:37:17.527500",
     "status": "completed"
    },
    "tags": []
   },
   "outputs": [],
   "source": [
    "tst_df['Survived'] = (model(tst_indep)>0.5).int()\n",
    "sub_df = tst_df[['PassengerId','Survived']]\n",
    "sub_df.to_csv('submission.csv', index=False)"
   ]
  },
  {
   "cell_type": "code",
   "execution_count": 18,
   "id": "a1c84ad5",
   "metadata": {
    "execution": {
     "iopub.execute_input": "2025-01-05T22:37:17.560875Z",
     "iopub.status.busy": "2025-01-05T22:37:17.560537Z",
     "iopub.status.idle": "2025-01-05T22:37:17.704640Z",
     "shell.execute_reply": "2025-01-05T22:37:17.703171Z"
    },
    "papermill": {
     "duration": 0.152116,
     "end_time": "2025-01-05T22:37:17.706854",
     "exception": false,
     "start_time": "2025-01-05T22:37:17.554738",
     "status": "completed"
    },
    "tags": []
   },
   "outputs": [
    {
     "name": "stdout",
     "output_type": "stream",
     "text": [
      "PassengerId,Survived\r\n",
      "892,0\r\n",
      "893,1\r\n",
      "894,1\r\n",
      "895,0\r\n",
      "896,1\r\n",
      "897,0\r\n",
      "898,1\r\n",
      "899,1\r\n",
      "900,1\r\n"
     ]
    },
    {
     "name": "stderr",
     "output_type": "stream",
     "text": [
      "/usr/lib/python3.10/pty.py:89: RuntimeWarning: os.fork() was called. os.fork() is incompatible with multithreaded code, and JAX is multithreaded, so this will likely lead to a deadlock.\n",
      "  pid, fd = os.forkpty()\n"
     ]
    }
   ],
   "source": [
    "!head submission.csv"
   ]
  },
  {
   "cell_type": "code",
   "execution_count": null,
   "id": "258a7abc",
   "metadata": {
    "papermill": {
     "duration": 0.005077,
     "end_time": "2025-01-05T22:37:17.717644",
     "exception": false,
     "start_time": "2025-01-05T22:37:17.712567",
     "status": "completed"
    },
    "tags": []
   },
   "outputs": [],
   "source": []
  }
 ],
 "metadata": {
  "kaggle": {
   "accelerator": "none",
   "dataSources": [
    {
     "databundleVersionId": 26502,
     "sourceId": 3136,
     "sourceType": "competition"
    }
   ],
   "dockerImageVersionId": 30822,
   "isGpuEnabled": false,
   "isInternetEnabled": true,
   "language": "python",
   "sourceType": "notebook"
  },
  "kernelspec": {
   "display_name": "Python 3",
   "language": "python",
   "name": "python3"
  },
  "language_info": {
   "codemirror_mode": {
    "name": "ipython",
    "version": 3
   },
   "file_extension": ".py",
   "mimetype": "text/x-python",
   "name": "python",
   "nbconvert_exporter": "python",
   "pygments_lexer": "ipython3",
   "version": "3.10.12"
  },
  "papermill": {
   "default_parameters": {},
   "duration": 22.584712,
   "end_time": "2025-01-05T22:37:20.598589",
   "environment_variables": {},
   "exception": null,
   "input_path": "__notebook__.ipynb",
   "output_path": "__notebook__.ipynb",
   "parameters": {},
   "start_time": "2025-01-05T22:36:58.013877",
   "version": "2.6.0"
  }
 },
 "nbformat": 4,
 "nbformat_minor": 5
}
