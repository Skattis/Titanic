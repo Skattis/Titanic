{
 "cells": [
  {
   "cell_type": "code",
   "execution_count": 1,
   "id": "1f232c49",
   "metadata": {
    "execution": {
     "iopub.execute_input": "2025-01-05T20:30:35.591428Z",
     "iopub.status.busy": "2025-01-05T20:30:35.591010Z",
     "iopub.status.idle": "2025-01-05T20:30:35.597713Z",
     "shell.execute_reply": "2025-01-05T20:30:35.596721Z"
    },
    "papermill": {
     "duration": 0.02447,
     "end_time": "2025-01-05T20:30:35.599458",
     "exception": false,
     "start_time": "2025-01-05T20:30:35.574988",
     "status": "completed"
    },
    "tags": []
   },
   "outputs": [],
   "source": [
    "import os\n",
    "from pathlib import Path\n",
    "\n",
    "iskaggle = os.environ.get('KAGGLE_KERNEL_RUN_TYPE', '')\n",
    "if iskaggle: path = Path('../input/titanic')\n",
    "else:\n",
    "    path = Path('titanic')\n",
    "    if not path.exists():\n",
    "        import zipfile,kaggle\n",
    "        kaggle.api.competition_download_cli(str(path))\n",
    "        zipfile.ZipFile(f'{path}.zip').extractall(path)"
   ]
  },
  {
   "cell_type": "code",
   "execution_count": 2,
   "id": "4fab07cb",
   "metadata": {
    "execution": {
     "iopub.execute_input": "2025-01-05T20:30:35.627737Z",
     "iopub.status.busy": "2025-01-05T20:30:35.627325Z",
     "iopub.status.idle": "2025-01-05T20:30:39.747165Z",
     "shell.execute_reply": "2025-01-05T20:30:39.746184Z"
    },
    "papermill": {
     "duration": 4.135982,
     "end_time": "2025-01-05T20:30:39.749119",
     "exception": false,
     "start_time": "2025-01-05T20:30:35.613137",
     "status": "completed"
    },
    "tags": []
   },
   "outputs": [],
   "source": [
    "import torch, numpy as np, pandas as pd\n",
    "np.set_printoptions(linewidth=140)\n",
    "torch.set_printoptions(linewidth=140, sci_mode=False, edgeitems=7)\n",
    "pd.set_option('display.width', 140)"
   ]
  },
  {
   "cell_type": "markdown",
   "id": "caf382f9",
   "metadata": {
    "papermill": {
     "duration": 0.012848,
     "end_time": "2025-01-05T20:30:39.776184",
     "exception": false,
     "start_time": "2025-01-05T20:30:39.763336",
     "status": "completed"
    },
    "tags": []
   },
   "source": [
    "## Cleaning the data"
   ]
  },
  {
   "cell_type": "code",
   "execution_count": 3,
   "id": "61aa9396",
   "metadata": {
    "execution": {
     "iopub.execute_input": "2025-01-05T20:30:39.804260Z",
     "iopub.status.busy": "2025-01-05T20:30:39.803720Z",
     "iopub.status.idle": "2025-01-05T20:30:39.845358Z",
     "shell.execute_reply": "2025-01-05T20:30:39.844173Z"
    },
    "papermill": {
     "duration": 0.058015,
     "end_time": "2025-01-05T20:30:39.847435",
     "exception": false,
     "start_time": "2025-01-05T20:30:39.789420",
     "status": "completed"
    },
    "tags": []
   },
   "outputs": [
    {
     "data": {
      "text/html": [
       "<div>\n",
       "<style scoped>\n",
       "    .dataframe tbody tr th:only-of-type {\n",
       "        vertical-align: middle;\n",
       "    }\n",
       "\n",
       "    .dataframe tbody tr th {\n",
       "        vertical-align: top;\n",
       "    }\n",
       "\n",
       "    .dataframe thead th {\n",
       "        text-align: right;\n",
       "    }\n",
       "</style>\n",
       "<table border=\"1\" class=\"dataframe\">\n",
       "  <thead>\n",
       "    <tr style=\"text-align: right;\">\n",
       "      <th></th>\n",
       "      <th>PassengerId</th>\n",
       "      <th>Survived</th>\n",
       "      <th>Pclass</th>\n",
       "      <th>Name</th>\n",
       "      <th>Sex</th>\n",
       "      <th>Age</th>\n",
       "      <th>SibSp</th>\n",
       "      <th>Parch</th>\n",
       "      <th>Ticket</th>\n",
       "      <th>Fare</th>\n",
       "      <th>Cabin</th>\n",
       "      <th>Embarked</th>\n",
       "    </tr>\n",
       "  </thead>\n",
       "  <tbody>\n",
       "    <tr>\n",
       "      <th>0</th>\n",
       "      <td>1</td>\n",
       "      <td>0</td>\n",
       "      <td>3</td>\n",
       "      <td>Braund, Mr. Owen Harris</td>\n",
       "      <td>male</td>\n",
       "      <td>22.0</td>\n",
       "      <td>1</td>\n",
       "      <td>0</td>\n",
       "      <td>A/5 21171</td>\n",
       "      <td>7.2500</td>\n",
       "      <td>NaN</td>\n",
       "      <td>S</td>\n",
       "    </tr>\n",
       "    <tr>\n",
       "      <th>1</th>\n",
       "      <td>2</td>\n",
       "      <td>1</td>\n",
       "      <td>1</td>\n",
       "      <td>Cumings, Mrs. John Bradley (Florence Briggs Th...</td>\n",
       "      <td>female</td>\n",
       "      <td>38.0</td>\n",
       "      <td>1</td>\n",
       "      <td>0</td>\n",
       "      <td>PC 17599</td>\n",
       "      <td>71.2833</td>\n",
       "      <td>C85</td>\n",
       "      <td>C</td>\n",
       "    </tr>\n",
       "    <tr>\n",
       "      <th>2</th>\n",
       "      <td>3</td>\n",
       "      <td>1</td>\n",
       "      <td>3</td>\n",
       "      <td>Heikkinen, Miss. Laina</td>\n",
       "      <td>female</td>\n",
       "      <td>26.0</td>\n",
       "      <td>0</td>\n",
       "      <td>0</td>\n",
       "      <td>STON/O2. 3101282</td>\n",
       "      <td>7.9250</td>\n",
       "      <td>NaN</td>\n",
       "      <td>S</td>\n",
       "    </tr>\n",
       "    <tr>\n",
       "      <th>3</th>\n",
       "      <td>4</td>\n",
       "      <td>1</td>\n",
       "      <td>1</td>\n",
       "      <td>Futrelle, Mrs. Jacques Heath (Lily May Peel)</td>\n",
       "      <td>female</td>\n",
       "      <td>35.0</td>\n",
       "      <td>1</td>\n",
       "      <td>0</td>\n",
       "      <td>113803</td>\n",
       "      <td>53.1000</td>\n",
       "      <td>C123</td>\n",
       "      <td>S</td>\n",
       "    </tr>\n",
       "    <tr>\n",
       "      <th>4</th>\n",
       "      <td>5</td>\n",
       "      <td>0</td>\n",
       "      <td>3</td>\n",
       "      <td>Allen, Mr. William Henry</td>\n",
       "      <td>male</td>\n",
       "      <td>35.0</td>\n",
       "      <td>0</td>\n",
       "      <td>0</td>\n",
       "      <td>373450</td>\n",
       "      <td>8.0500</td>\n",
       "      <td>NaN</td>\n",
       "      <td>S</td>\n",
       "    </tr>\n",
       "    <tr>\n",
       "      <th>...</th>\n",
       "      <td>...</td>\n",
       "      <td>...</td>\n",
       "      <td>...</td>\n",
       "      <td>...</td>\n",
       "      <td>...</td>\n",
       "      <td>...</td>\n",
       "      <td>...</td>\n",
       "      <td>...</td>\n",
       "      <td>...</td>\n",
       "      <td>...</td>\n",
       "      <td>...</td>\n",
       "      <td>...</td>\n",
       "    </tr>\n",
       "    <tr>\n",
       "      <th>886</th>\n",
       "      <td>887</td>\n",
       "      <td>0</td>\n",
       "      <td>2</td>\n",
       "      <td>Montvila, Rev. Juozas</td>\n",
       "      <td>male</td>\n",
       "      <td>27.0</td>\n",
       "      <td>0</td>\n",
       "      <td>0</td>\n",
       "      <td>211536</td>\n",
       "      <td>13.0000</td>\n",
       "      <td>NaN</td>\n",
       "      <td>S</td>\n",
       "    </tr>\n",
       "    <tr>\n",
       "      <th>887</th>\n",
       "      <td>888</td>\n",
       "      <td>1</td>\n",
       "      <td>1</td>\n",
       "      <td>Graham, Miss. Margaret Edith</td>\n",
       "      <td>female</td>\n",
       "      <td>19.0</td>\n",
       "      <td>0</td>\n",
       "      <td>0</td>\n",
       "      <td>112053</td>\n",
       "      <td>30.0000</td>\n",
       "      <td>B42</td>\n",
       "      <td>S</td>\n",
       "    </tr>\n",
       "    <tr>\n",
       "      <th>888</th>\n",
       "      <td>889</td>\n",
       "      <td>0</td>\n",
       "      <td>3</td>\n",
       "      <td>Johnston, Miss. Catherine Helen \"Carrie\"</td>\n",
       "      <td>female</td>\n",
       "      <td>NaN</td>\n",
       "      <td>1</td>\n",
       "      <td>2</td>\n",
       "      <td>W./C. 6607</td>\n",
       "      <td>23.4500</td>\n",
       "      <td>NaN</td>\n",
       "      <td>S</td>\n",
       "    </tr>\n",
       "    <tr>\n",
       "      <th>889</th>\n",
       "      <td>890</td>\n",
       "      <td>1</td>\n",
       "      <td>1</td>\n",
       "      <td>Behr, Mr. Karl Howell</td>\n",
       "      <td>male</td>\n",
       "      <td>26.0</td>\n",
       "      <td>0</td>\n",
       "      <td>0</td>\n",
       "      <td>111369</td>\n",
       "      <td>30.0000</td>\n",
       "      <td>C148</td>\n",
       "      <td>C</td>\n",
       "    </tr>\n",
       "    <tr>\n",
       "      <th>890</th>\n",
       "      <td>891</td>\n",
       "      <td>0</td>\n",
       "      <td>3</td>\n",
       "      <td>Dooley, Mr. Patrick</td>\n",
       "      <td>male</td>\n",
       "      <td>32.0</td>\n",
       "      <td>0</td>\n",
       "      <td>0</td>\n",
       "      <td>370376</td>\n",
       "      <td>7.7500</td>\n",
       "      <td>NaN</td>\n",
       "      <td>Q</td>\n",
       "    </tr>\n",
       "  </tbody>\n",
       "</table>\n",
       "<p>891 rows × 12 columns</p>\n",
       "</div>"
      ],
      "text/plain": [
       "     PassengerId  Survived  Pclass                                               Name     Sex   Age  SibSp  Parch            Ticket  \\\n",
       "0              1         0       3                            Braund, Mr. Owen Harris    male  22.0      1      0         A/5 21171   \n",
       "1              2         1       1  Cumings, Mrs. John Bradley (Florence Briggs Th...  female  38.0      1      0          PC 17599   \n",
       "2              3         1       3                             Heikkinen, Miss. Laina  female  26.0      0      0  STON/O2. 3101282   \n",
       "3              4         1       1       Futrelle, Mrs. Jacques Heath (Lily May Peel)  female  35.0      1      0            113803   \n",
       "4              5         0       3                           Allen, Mr. William Henry    male  35.0      0      0            373450   \n",
       "..           ...       ...     ...                                                ...     ...   ...    ...    ...               ...   \n",
       "886          887         0       2                              Montvila, Rev. Juozas    male  27.0      0      0            211536   \n",
       "887          888         1       1                       Graham, Miss. Margaret Edith  female  19.0      0      0            112053   \n",
       "888          889         0       3           Johnston, Miss. Catherine Helen \"Carrie\"  female   NaN      1      2        W./C. 6607   \n",
       "889          890         1       1                              Behr, Mr. Karl Howell    male  26.0      0      0            111369   \n",
       "890          891         0       3                                Dooley, Mr. Patrick    male  32.0      0      0            370376   \n",
       "\n",
       "        Fare Cabin Embarked  \n",
       "0     7.2500   NaN        S  \n",
       "1    71.2833   C85        C  \n",
       "2     7.9250   NaN        S  \n",
       "3    53.1000  C123        S  \n",
       "4     8.0500   NaN        S  \n",
       "..       ...   ...      ...  \n",
       "886  13.0000   NaN        S  \n",
       "887  30.0000   B42        S  \n",
       "888  23.4500   NaN        S  \n",
       "889  30.0000  C148        C  \n",
       "890   7.7500   NaN        Q  \n",
       "\n",
       "[891 rows x 12 columns]"
      ]
     },
     "execution_count": 3,
     "metadata": {},
     "output_type": "execute_result"
    }
   ],
   "source": [
    "df = pd.read_csv(path/'train.csv')\n",
    "df"
   ]
  },
  {
   "cell_type": "code",
   "execution_count": 4,
   "id": "58f006cd",
   "metadata": {
    "execution": {
     "iopub.execute_input": "2025-01-05T20:30:39.877328Z",
     "iopub.status.busy": "2025-01-05T20:30:39.876966Z",
     "iopub.status.idle": "2025-01-05T20:30:39.887875Z",
     "shell.execute_reply": "2025-01-05T20:30:39.886822Z"
    },
    "papermill": {
     "duration": 0.028343,
     "end_time": "2025-01-05T20:30:39.889704",
     "exception": false,
     "start_time": "2025-01-05T20:30:39.861361",
     "status": "completed"
    },
    "tags": []
   },
   "outputs": [
    {
     "data": {
      "text/plain": [
       "PassengerId      0\n",
       "Survived         0\n",
       "Pclass           0\n",
       "Name             0\n",
       "Sex              0\n",
       "Age            177\n",
       "SibSp            0\n",
       "Parch            0\n",
       "Ticket           0\n",
       "Fare             0\n",
       "Cabin          687\n",
       "Embarked         2\n",
       "dtype: int64"
      ]
     },
     "execution_count": 4,
     "metadata": {},
     "output_type": "execute_result"
    }
   ],
   "source": [
    "df.isna().sum()"
   ]
  },
  {
   "cell_type": "code",
   "execution_count": 5,
   "id": "9cb417a6",
   "metadata": {
    "execution": {
     "iopub.execute_input": "2025-01-05T20:30:39.919207Z",
     "iopub.status.busy": "2025-01-05T20:30:39.918830Z",
     "iopub.status.idle": "2025-01-05T20:30:39.947734Z",
     "shell.execute_reply": "2025-01-05T20:30:39.946675Z"
    },
    "papermill": {
     "duration": 0.046639,
     "end_time": "2025-01-05T20:30:39.950091",
     "exception": false,
     "start_time": "2025-01-05T20:30:39.903452",
     "status": "completed"
    },
    "tags": []
   },
   "outputs": [
    {
     "data": {
      "text/plain": [
       "PassengerId                      1\n",
       "Survived                       0.0\n",
       "Pclass                         3.0\n",
       "Name           Abbing, Mr. Anthony\n",
       "Sex                           male\n",
       "Age                           24.0\n",
       "SibSp                          0.0\n",
       "Parch                          0.0\n",
       "Ticket                        1601\n",
       "Fare                          8.05\n",
       "Cabin                      B96 B98\n",
       "Embarked                         S\n",
       "Name: 0, dtype: object"
      ]
     },
     "execution_count": 5,
     "metadata": {},
     "output_type": "execute_result"
    }
   ],
   "source": [
    "modes = df.mode().iloc[0]\n",
    "modes"
   ]
  },
  {
   "cell_type": "code",
   "execution_count": 6,
   "id": "6ad839e4",
   "metadata": {
    "execution": {
     "iopub.execute_input": "2025-01-05T20:30:39.979412Z",
     "iopub.status.busy": "2025-01-05T20:30:39.979076Z",
     "iopub.status.idle": "2025-01-05T20:30:39.989131Z",
     "shell.execute_reply": "2025-01-05T20:30:39.988243Z"
    },
    "papermill": {
     "duration": 0.026748,
     "end_time": "2025-01-05T20:30:39.990909",
     "exception": false,
     "start_time": "2025-01-05T20:30:39.964161",
     "status": "completed"
    },
    "tags": []
   },
   "outputs": [],
   "source": [
    "df.fillna(modes, inplace=True)"
   ]
  },
  {
   "cell_type": "code",
   "execution_count": 7,
   "id": "1c82de10",
   "metadata": {
    "execution": {
     "iopub.execute_input": "2025-01-05T20:30:40.019807Z",
     "iopub.status.busy": "2025-01-05T20:30:40.019363Z",
     "iopub.status.idle": "2025-01-05T20:30:40.026923Z",
     "shell.execute_reply": "2025-01-05T20:30:40.025928Z"
    },
    "papermill": {
     "duration": 0.023824,
     "end_time": "2025-01-05T20:30:40.028672",
     "exception": false,
     "start_time": "2025-01-05T20:30:40.004848",
     "status": "completed"
    },
    "tags": []
   },
   "outputs": [
    {
     "data": {
      "text/plain": [
       "PassengerId    0\n",
       "Survived       0\n",
       "Pclass         0\n",
       "Name           0\n",
       "Sex            0\n",
       "Age            0\n",
       "SibSp          0\n",
       "Parch          0\n",
       "Ticket         0\n",
       "Fare           0\n",
       "Cabin          0\n",
       "Embarked       0\n",
       "dtype: int64"
      ]
     },
     "execution_count": 7,
     "metadata": {},
     "output_type": "execute_result"
    }
   ],
   "source": [
    "df.isna().sum()"
   ]
  },
  {
   "cell_type": "code",
   "execution_count": 8,
   "id": "b689b8b0",
   "metadata": {
    "execution": {
     "iopub.execute_input": "2025-01-05T20:30:40.057512Z",
     "iopub.status.busy": "2025-01-05T20:30:40.057180Z",
     "iopub.status.idle": "2025-01-05T20:30:40.084070Z",
     "shell.execute_reply": "2025-01-05T20:30:40.083025Z"
    },
    "papermill": {
     "duration": 0.043267,
     "end_time": "2025-01-05T20:30:40.085804",
     "exception": false,
     "start_time": "2025-01-05T20:30:40.042537",
     "status": "completed"
    },
    "tags": []
   },
   "outputs": [
    {
     "data": {
      "text/html": [
       "<div>\n",
       "<style scoped>\n",
       "    .dataframe tbody tr th:only-of-type {\n",
       "        vertical-align: middle;\n",
       "    }\n",
       "\n",
       "    .dataframe tbody tr th {\n",
       "        vertical-align: top;\n",
       "    }\n",
       "\n",
       "    .dataframe thead th {\n",
       "        text-align: right;\n",
       "    }\n",
       "</style>\n",
       "<table border=\"1\" class=\"dataframe\">\n",
       "  <thead>\n",
       "    <tr style=\"text-align: right;\">\n",
       "      <th></th>\n",
       "      <th>PassengerId</th>\n",
       "      <th>Survived</th>\n",
       "      <th>Pclass</th>\n",
       "      <th>Age</th>\n",
       "      <th>SibSp</th>\n",
       "      <th>Parch</th>\n",
       "      <th>Fare</th>\n",
       "    </tr>\n",
       "  </thead>\n",
       "  <tbody>\n",
       "    <tr>\n",
       "      <th>count</th>\n",
       "      <td>891.000000</td>\n",
       "      <td>891.000000</td>\n",
       "      <td>891.000000</td>\n",
       "      <td>891.000000</td>\n",
       "      <td>891.000000</td>\n",
       "      <td>891.000000</td>\n",
       "      <td>891.000000</td>\n",
       "    </tr>\n",
       "    <tr>\n",
       "      <th>mean</th>\n",
       "      <td>446.000000</td>\n",
       "      <td>0.383838</td>\n",
       "      <td>2.308642</td>\n",
       "      <td>28.566970</td>\n",
       "      <td>0.523008</td>\n",
       "      <td>0.381594</td>\n",
       "      <td>32.204208</td>\n",
       "    </tr>\n",
       "    <tr>\n",
       "      <th>std</th>\n",
       "      <td>257.353842</td>\n",
       "      <td>0.486592</td>\n",
       "      <td>0.836071</td>\n",
       "      <td>13.199572</td>\n",
       "      <td>1.102743</td>\n",
       "      <td>0.806057</td>\n",
       "      <td>49.693429</td>\n",
       "    </tr>\n",
       "    <tr>\n",
       "      <th>min</th>\n",
       "      <td>1.000000</td>\n",
       "      <td>0.000000</td>\n",
       "      <td>1.000000</td>\n",
       "      <td>0.420000</td>\n",
       "      <td>0.000000</td>\n",
       "      <td>0.000000</td>\n",
       "      <td>0.000000</td>\n",
       "    </tr>\n",
       "    <tr>\n",
       "      <th>25%</th>\n",
       "      <td>223.500000</td>\n",
       "      <td>0.000000</td>\n",
       "      <td>2.000000</td>\n",
       "      <td>22.000000</td>\n",
       "      <td>0.000000</td>\n",
       "      <td>0.000000</td>\n",
       "      <td>7.910400</td>\n",
       "    </tr>\n",
       "    <tr>\n",
       "      <th>50%</th>\n",
       "      <td>446.000000</td>\n",
       "      <td>0.000000</td>\n",
       "      <td>3.000000</td>\n",
       "      <td>24.000000</td>\n",
       "      <td>0.000000</td>\n",
       "      <td>0.000000</td>\n",
       "      <td>14.454200</td>\n",
       "    </tr>\n",
       "    <tr>\n",
       "      <th>75%</th>\n",
       "      <td>668.500000</td>\n",
       "      <td>1.000000</td>\n",
       "      <td>3.000000</td>\n",
       "      <td>35.000000</td>\n",
       "      <td>1.000000</td>\n",
       "      <td>0.000000</td>\n",
       "      <td>31.000000</td>\n",
       "    </tr>\n",
       "    <tr>\n",
       "      <th>max</th>\n",
       "      <td>891.000000</td>\n",
       "      <td>1.000000</td>\n",
       "      <td>3.000000</td>\n",
       "      <td>80.000000</td>\n",
       "      <td>8.000000</td>\n",
       "      <td>6.000000</td>\n",
       "      <td>512.329200</td>\n",
       "    </tr>\n",
       "  </tbody>\n",
       "</table>\n",
       "</div>"
      ],
      "text/plain": [
       "       PassengerId    Survived      Pclass         Age       SibSp       Parch        Fare\n",
       "count   891.000000  891.000000  891.000000  891.000000  891.000000  891.000000  891.000000\n",
       "mean    446.000000    0.383838    2.308642   28.566970    0.523008    0.381594   32.204208\n",
       "std     257.353842    0.486592    0.836071   13.199572    1.102743    0.806057   49.693429\n",
       "min       1.000000    0.000000    1.000000    0.420000    0.000000    0.000000    0.000000\n",
       "25%     223.500000    0.000000    2.000000   22.000000    0.000000    0.000000    7.910400\n",
       "50%     446.000000    0.000000    3.000000   24.000000    0.000000    0.000000   14.454200\n",
       "75%     668.500000    1.000000    3.000000   35.000000    1.000000    0.000000   31.000000\n",
       "max     891.000000    1.000000    3.000000   80.000000    8.000000    6.000000  512.329200"
      ]
     },
     "execution_count": 8,
     "metadata": {},
     "output_type": "execute_result"
    }
   ],
   "source": [
    "import numpy as np\n",
    "\n",
    "df.describe(include=(np.number))"
   ]
  },
  {
   "cell_type": "code",
   "execution_count": 9,
   "id": "e2b9e262",
   "metadata": {
    "execution": {
     "iopub.execute_input": "2025-01-05T20:30:40.115687Z",
     "iopub.status.busy": "2025-01-05T20:30:40.115284Z",
     "iopub.status.idle": "2025-01-05T20:30:40.458874Z",
     "shell.execute_reply": "2025-01-05T20:30:40.457726Z"
    },
    "papermill": {
     "duration": 0.360681,
     "end_time": "2025-01-05T20:30:40.460788",
     "exception": false,
     "start_time": "2025-01-05T20:30:40.100107",
     "status": "completed"
    },
    "tags": []
   },
   "outputs": [
    {
     "data": {
      "image/png": "[encoded data removed]",
      "text/plain": [
       "<Figure size 640x480 with 1 Axes>"
      ]
     },
     "metadata": {},
     "output_type": "display_data"
    }
   ],
   "source": [
    "df['Fare'].hist();"
   ]
  },
  {
   "cell_type": "code",
   "execution_count": 10,
   "id": "03d3f306",
   "metadata": {
    "execution": {
     "iopub.execute_input": "2025-01-05T20:30:40.491463Z",
     "iopub.status.busy": "2025-01-05T20:30:40.491094Z",
     "iopub.status.idle": "2025-01-05T20:30:40.496507Z",
     "shell.execute_reply": "2025-01-05T20:30:40.495447Z"
    },
    "papermill": {
     "duration": 0.022706,
     "end_time": "2025-01-05T20:30:40.498448",
     "exception": false,
     "start_time": "2025-01-05T20:30:40.475742",
     "status": "completed"
    },
    "tags": []
   },
   "outputs": [],
   "source": [
    "df['LogFare'] = np.log(df['Fare']+1)"
   ]
  },
  {
   "cell_type": "code",
   "execution_count": 11,
   "id": "b12c8375",
   "metadata": {
    "execution": {
     "iopub.execute_input": "2025-01-05T20:30:40.528720Z",
     "iopub.status.busy": "2025-01-05T20:30:40.528312Z",
     "iopub.status.idle": "2025-01-05T20:30:40.729303Z",
     "shell.execute_reply": "2025-01-05T20:30:40.728060Z"
    },
    "papermill": {
     "duration": 0.218186,
     "end_time": "2025-01-05T20:30:40.731258",
     "exception": false,
     "start_time": "2025-01-05T20:30:40.513072",
     "status": "completed"
    },
    "tags": []
   },
   "outputs": [
    {
     "data": {
      "image/png": "[encoded data removed]",
      "text/plain": [
       "<Figure size 640x480 with 1 Axes>"
      ]
     },
     "metadata": {},
     "output_type": "display_data"
    }
   ],
   "source": [
    "df['LogFare'].hist();"
   ]
  },
  {
   "cell_type": "code",
   "execution_count": 12,
   "id": "5d5e0d5a",
   "metadata": {
    "execution": {
     "iopub.execute_input": "2025-01-05T20:30:40.763985Z",
     "iopub.status.busy": "2025-01-05T20:30:40.763610Z",
     "iopub.status.idle": "2025-01-05T20:30:40.769980Z",
     "shell.execute_reply": "2025-01-05T20:30:40.768940Z"
    },
    "papermill": {
     "duration": 0.025181,
     "end_time": "2025-01-05T20:30:40.771465",
     "exception": false,
     "start_time": "2025-01-05T20:30:40.746284",
     "status": "completed"
    },
    "tags": []
   },
   "outputs": [
    {
     "data": {
      "text/plain": [
       "[1, 2, 3]"
      ]
     },
     "execution_count": 12,
     "metadata": {},
     "output_type": "execute_result"
    }
   ],
   "source": [
    "pclasses = sorted(df.Pclass.unique())\n",
    "pclasses"
   ]
  },
  {
   "cell_type": "code",
   "execution_count": 13,
   "id": "87c2b4e3",
   "metadata": {
    "execution": {
     "iopub.execute_input": "2025-01-05T20:30:40.802140Z",
     "iopub.status.busy": "2025-01-05T20:30:40.801785Z",
     "iopub.status.idle": "2025-01-05T20:30:40.819803Z",
     "shell.execute_reply": "2025-01-05T20:30:40.818790Z"
    },
    "papermill": {
     "duration": 0.035192,
     "end_time": "2025-01-05T20:30:40.821447",
     "exception": false,
     "start_time": "2025-01-05T20:30:40.786255",
     "status": "completed"
    },
    "tags": []
   },
   "outputs": [
    {
     "data": {
      "text/html": [
       "<div>\n",
       "<style scoped>\n",
       "    .dataframe tbody tr th:only-of-type {\n",
       "        vertical-align: middle;\n",
       "    }\n",
       "\n",
       "    .dataframe tbody tr th {\n",
       "        vertical-align: top;\n",
       "    }\n",
       "\n",
       "    .dataframe thead th {\n",
       "        text-align: right;\n",
       "    }\n",
       "</style>\n",
       "<table border=\"1\" class=\"dataframe\">\n",
       "  <thead>\n",
       "    <tr style=\"text-align: right;\">\n",
       "      <th></th>\n",
       "      <th>Name</th>\n",
       "      <th>Sex</th>\n",
       "      <th>Ticket</th>\n",
       "      <th>Cabin</th>\n",
       "      <th>Embarked</th>\n",
       "    </tr>\n",
       "  </thead>\n",
       "  <tbody>\n",
       "    <tr>\n",
       "      <th>count</th>\n",
       "      <td>891</td>\n",
       "      <td>891</td>\n",
       "      <td>891</td>\n",
       "      <td>891</td>\n",
       "      <td>891</td>\n",
       "    </tr>\n",
       "    <tr>\n",
       "      <th>unique</th>\n",
       "      <td>891</td>\n",
       "      <td>2</td>\n",
       "      <td>681</td>\n",
       "      <td>147</td>\n",
       "      <td>3</td>\n",
       "    </tr>\n",
       "    <tr>\n",
       "      <th>top</th>\n",
       "      <td>Braund, Mr. Owen Harris</td>\n",
       "      <td>male</td>\n",
       "      <td>347082</td>\n",
       "      <td>B96 B98</td>\n",
       "      <td>S</td>\n",
       "    </tr>\n",
       "    <tr>\n",
       "      <th>freq</th>\n",
       "      <td>1</td>\n",
       "      <td>577</td>\n",
       "      <td>7</td>\n",
       "      <td>691</td>\n",
       "      <td>646</td>\n",
       "    </tr>\n",
       "  </tbody>\n",
       "</table>\n",
       "</div>"
      ],
      "text/plain": [
       "                           Name   Sex  Ticket    Cabin Embarked\n",
       "count                       891   891     891      891      891\n",
       "unique                      891     2     681      147        3\n",
       "top     Braund, Mr. Owen Harris  male  347082  B96 B98        S\n",
       "freq                          1   577       7      691      646"
      ]
     },
     "execution_count": 13,
     "metadata": {},
     "output_type": "execute_result"
    }
   ],
   "source": [
    "df.describe(include=[object])"
   ]
  },
  {
   "cell_type": "code",
   "execution_count": 14,
   "id": "3532b968",
   "metadata": {
    "execution": {
     "iopub.execute_input": "2025-01-05T20:30:40.853510Z",
     "iopub.status.busy": "2025-01-05T20:30:40.853173Z",
     "iopub.status.idle": "2025-01-05T20:30:40.872906Z",
     "shell.execute_reply": "2025-01-05T20:30:40.871699Z"
    },
    "papermill": {
     "duration": 0.037987,
     "end_time": "2025-01-05T20:30:40.874755",
     "exception": false,
     "start_time": "2025-01-05T20:30:40.836768",
     "status": "completed"
    },
    "tags": []
   },
   "outputs": [
    {
     "data": {
      "text/plain": [
       "Index(['PassengerId', 'Survived', 'Name', 'Age', 'SibSp', 'Parch', 'Ticket', 'Fare', 'Cabin', 'LogFare', 'Sex_female', 'Sex_male',\n",
       "       'Pclass_1', 'Pclass_2', 'Pclass_3', 'Embarked_C', 'Embarked_Q', 'Embarked_S'],\n",
       "      dtype='object')"
      ]
     },
     "execution_count": 14,
     "metadata": {},
     "output_type": "execute_result"
    }
   ],
   "source": [
    "df = pd.get_dummies(df, columns=[\"Sex\",\"Pclass\",\"Embarked\"])\n",
    "df.columns"
   ]
  },
  {
   "cell_type": "code",
   "execution_count": 15,
   "id": "e2ed1d7a",
   "metadata": {
    "execution": {
     "iopub.execute_input": "2025-01-05T20:30:40.906237Z",
     "iopub.status.busy": "2025-01-05T20:30:40.905895Z",
     "iopub.status.idle": "2025-01-05T20:30:40.920893Z",
     "shell.execute_reply": "2025-01-05T20:30:40.919814Z"
    },
    "papermill": {
     "duration": 0.03274,
     "end_time": "2025-01-05T20:30:40.922726",
     "exception": false,
     "start_time": "2025-01-05T20:30:40.889986",
     "status": "completed"
    },
    "tags": []
   },
   "outputs": [
    {
     "data": {
      "text/html": [
       "<div>\n",
       "<style scoped>\n",
       "    .dataframe tbody tr th:only-of-type {\n",
       "        vertical-align: middle;\n",
       "    }\n",
       "\n",
       "    .dataframe tbody tr th {\n",
       "        vertical-align: top;\n",
       "    }\n",
       "\n",
       "    .dataframe thead th {\n",
       "        text-align: right;\n",
       "    }\n",
       "</style>\n",
       "<table border=\"1\" class=\"dataframe\">\n",
       "  <thead>\n",
       "    <tr style=\"text-align: right;\">\n",
       "      <th></th>\n",
       "      <th>Sex_male</th>\n",
       "      <th>Sex_female</th>\n",
       "      <th>Pclass_1</th>\n",
       "      <th>Pclass_2</th>\n",
       "      <th>Pclass_3</th>\n",
       "      <th>Embarked_C</th>\n",
       "      <th>Embarked_Q</th>\n",
       "      <th>Embarked_S</th>\n",
       "    </tr>\n",
       "  </thead>\n",
       "  <tbody>\n",
       "    <tr>\n",
       "      <th>0</th>\n",
       "      <td>True</td>\n",
       "      <td>False</td>\n",
       "      <td>False</td>\n",
       "      <td>False</td>\n",
       "      <td>True</td>\n",
       "      <td>False</td>\n",
       "      <td>False</td>\n",
       "      <td>True</td>\n",
       "    </tr>\n",
       "    <tr>\n",
       "      <th>1</th>\n",
       "      <td>False</td>\n",
       "      <td>True</td>\n",
       "      <td>True</td>\n",
       "      <td>False</td>\n",
       "      <td>False</td>\n",
       "      <td>True</td>\n",
       "      <td>False</td>\n",
       "      <td>False</td>\n",
       "    </tr>\n",
       "    <tr>\n",
       "      <th>2</th>\n",
       "      <td>False</td>\n",
       "      <td>True</td>\n",
       "      <td>False</td>\n",
       "      <td>False</td>\n",
       "      <td>True</td>\n",
       "      <td>False</td>\n",
       "      <td>False</td>\n",
       "      <td>True</td>\n",
       "    </tr>\n",
       "    <tr>\n",
       "      <th>3</th>\n",
       "      <td>False</td>\n",
       "      <td>True</td>\n",
       "      <td>True</td>\n",
       "      <td>False</td>\n",
       "      <td>False</td>\n",
       "      <td>False</td>\n",
       "      <td>False</td>\n",
       "      <td>True</td>\n",
       "    </tr>\n",
       "    <tr>\n",
       "      <th>4</th>\n",
       "      <td>True</td>\n",
       "      <td>False</td>\n",
       "      <td>False</td>\n",
       "      <td>False</td>\n",
       "      <td>True</td>\n",
       "      <td>False</td>\n",
       "      <td>False</td>\n",
       "      <td>True</td>\n",
       "    </tr>\n",
       "  </tbody>\n",
       "</table>\n",
       "</div>"
      ],
      "text/plain": [
       "   Sex_male  Sex_female  Pclass_1  Pclass_2  Pclass_3  Embarked_C  Embarked_Q  Embarked_S\n",
       "0      True       False     False     False      True       False       False        True\n",
       "1     False        True      True     False     False        True       False       False\n",
       "2     False        True     False     False      True       False       False        True\n",
       "3     False        True      True     False     False       False       False        True\n",
       "4      True       False     False     False      True       False       False        True"
      ]
     },
     "execution_count": 15,
     "metadata": {},
     "output_type": "execute_result"
    }
   ],
   "source": [
    "added_cols = ['Sex_male', 'Sex_female', 'Pclass_1', 'Pclass_2', 'Pclass_3', 'Embarked_C', 'Embarked_Q', 'Embarked_S']\n",
    "\n",
    "df[added_cols].head()"
   ]
  },
  {
   "cell_type": "code",
   "execution_count": 16,
   "id": "e4d984a3",
   "metadata": {
    "execution": {
     "iopub.execute_input": "2025-01-05T20:30:40.955968Z",
     "iopub.status.busy": "2025-01-05T20:30:40.955559Z",
     "iopub.status.idle": "2025-01-05T20:30:40.979143Z",
     "shell.execute_reply": "2025-01-05T20:30:40.977973Z"
    },
    "papermill": {
     "duration": 0.042644,
     "end_time": "2025-01-05T20:30:40.981064",
     "exception": false,
     "start_time": "2025-01-05T20:30:40.938420",
     "status": "completed"
    },
    "tags": []
   },
   "outputs": [],
   "source": [
    "from torch import tensor\n",
    "\n",
    "t_dep = tensor(df.Survived)"
   ]
  },
  {
   "cell_type": "code",
   "execution_count": 17,
   "id": "a61b4641",
   "metadata": {
    "execution": {
     "iopub.execute_input": "2025-01-05T20:30:41.013416Z",
     "iopub.status.busy": "2025-01-05T20:30:41.013083Z",
     "iopub.status.idle": "2025-01-05T20:30:41.120864Z",
     "shell.execute_reply": "2025-01-05T20:30:41.119731Z"
    },
    "papermill": {
     "duration": 0.126357,
     "end_time": "2025-01-05T20:30:41.122766",
     "exception": false,
     "start_time": "2025-01-05T20:30:40.996409",
     "status": "completed"
    },
    "tags": []
   },
   "outputs": [
    {
     "data": {
      "text/plain": [
       "tensor([[22.0000,  1.0000,  0.0000,  2.1102,  1.0000,  0.0000,  0.0000,  0.0000,  1.0000,  0.0000,  0.0000,  1.0000],\n",
       "        [38.0000,  1.0000,  0.0000,  4.2806,  0.0000,  1.0000,  1.0000,  0.0000,  0.0000,  1.0000,  0.0000,  0.0000],\n",
       "        [26.0000,  0.0000,  0.0000,  2.1889,  0.0000,  1.0000,  0.0000,  0.0000,  1.0000,  0.0000,  0.0000,  1.0000],\n",
       "        [35.0000,  1.0000,  0.0000,  3.9908,  0.0000,  1.0000,  1.0000,  0.0000,  0.0000,  0.0000,  0.0000,  1.0000],\n",
       "        [35.0000,  0.0000,  0.0000,  2.2028,  1.0000,  0.0000,  0.0000,  0.0000,  1.0000,  0.0000,  0.0000,  1.0000],\n",
       "        [24.0000,  0.0000,  0.0000,  2.2469,  1.0000,  0.0000,  0.0000,  0.0000,  1.0000,  0.0000,  1.0000,  0.0000],\n",
       "        [54.0000,  0.0000,  0.0000,  3.9677,  1.0000,  0.0000,  1.0000,  0.0000,  0.0000,  0.0000,  0.0000,  1.0000],\n",
       "        ...,\n",
       "        [25.0000,  0.0000,  0.0000,  2.0857,  1.0000,  0.0000,  0.0000,  0.0000,  1.0000,  0.0000,  0.0000,  1.0000],\n",
       "        [39.0000,  0.0000,  5.0000,  3.4054,  0.0000,  1.0000,  0.0000,  0.0000,  1.0000,  0.0000,  1.0000,  0.0000],\n",
       "        [27.0000,  0.0000,  0.0000,  2.6391,  1.0000,  0.0000,  0.0000,  1.0000,  0.0000,  0.0000,  0.0000,  1.0000],\n",
       "        [19.0000,  0.0000,  0.0000,  3.4340,  0.0000,  1.0000,  1.0000,  0.0000,  0.0000,  0.0000,  0.0000,  1.0000],\n",
       "        [24.0000,  1.0000,  2.0000,  3.1966,  0.0000,  1.0000,  0.0000,  0.0000,  1.0000,  0.0000,  0.0000,  1.0000],\n",
       "        [26.0000,  0.0000,  0.0000,  3.4340,  1.0000,  0.0000,  1.0000,  0.0000,  0.0000,  1.0000,  0.0000,  0.0000],\n",
       "        [32.0000,  0.0000,  0.0000,  2.1691,  1.0000,  0.0000,  0.0000,  0.0000,  1.0000,  0.0000,  1.0000,  0.0000]])"
      ]
     },
     "execution_count": 17,
     "metadata": {},
     "output_type": "execute_result"
    }
   ],
   "source": [
    "indep_cols = ['Age', 'SibSp', 'Parch', 'LogFare'] + added_cols\n",
    "df[indep_cols] = df[indep_cols].apply(lambda col: col.astype(int) if col.dtypes == 'bool' else col)\n",
    "t_indep = tensor(df[indep_cols].values, dtype=torch.float)\n",
    "t_indep"
   ]
  },
  {
   "cell_type": "code",
   "execution_count": 18,
   "id": "abd7bf2f",
   "metadata": {
    "execution": {
     "iopub.execute_input": "2025-01-05T20:30:41.155533Z",
     "iopub.status.busy": "2025-01-05T20:30:41.155187Z",
     "iopub.status.idle": "2025-01-05T20:30:41.160988Z",
     "shell.execute_reply": "2025-01-05T20:30:41.160030Z"
    },
    "papermill": {
     "duration": 0.023898,
     "end_time": "2025-01-05T20:30:41.162679",
     "exception": false,
     "start_time": "2025-01-05T20:30:41.138781",
     "status": "completed"
    },
    "tags": []
   },
   "outputs": [
    {
     "data": {
      "text/plain": [
       "torch.Size([891, 12])"
      ]
     },
     "execution_count": 18,
     "metadata": {},
     "output_type": "execute_result"
    }
   ],
   "source": [
    "t_indep.shape"
   ]
  },
  {
   "cell_type": "markdown",
   "id": "b78e55c7",
   "metadata": {
    "papermill": {
     "duration": 0.014939,
     "end_time": "2025-01-05T20:30:41.193242",
     "exception": false,
     "start_time": "2025-01-05T20:30:41.178303",
     "status": "completed"
    },
    "tags": []
   },
   "source": [
    "## Setting up a linear model"
   ]
  },
  {
   "cell_type": "code",
   "execution_count": 19,
   "id": "d12ca0cd",
   "metadata": {
    "execution": {
     "iopub.execute_input": "2025-01-05T20:30:41.225827Z",
     "iopub.status.busy": "2025-01-05T20:30:41.225441Z",
     "iopub.status.idle": "2025-01-05T20:30:41.244876Z",
     "shell.execute_reply": "2025-01-05T20:30:41.243712Z"
    },
    "papermill": {
     "duration": 0.037398,
     "end_time": "2025-01-05T20:30:41.246500",
     "exception": false,
     "start_time": "2025-01-05T20:30:41.209102",
     "status": "completed"
    },
    "tags": []
   },
   "outputs": [
    {
     "data": {
      "text/plain": [
       "tensor([-0.4629,  0.1386,  0.2409, -0.2262, -0.2632, -0.3147,  0.4876,  0.3136,  0.2799, -0.4392,  0.2103,  0.3625])"
      ]
     },
     "execution_count": 19,
     "metadata": {},
     "output_type": "execute_result"
    }
   ],
   "source": [
    "torch.manual_seed(442)\n",
    "\n",
    "n_coeff = t_indep.shape[1]\n",
    "coeffs = torch.rand(n_coeff)-0.5\n",
    "coeffs"
   ]
  },
  {
   "cell_type": "code",
   "execution_count": 20,
   "id": "3709cae9",
   "metadata": {
    "execution": {
     "iopub.execute_input": "2025-01-05T20:30:41.278991Z",
     "iopub.status.busy": "2025-01-05T20:30:41.278557Z",
     "iopub.status.idle": "2025-01-05T20:30:41.286970Z",
     "shell.execute_reply": "2025-01-05T20:30:41.285784Z"
    },
    "papermill": {
     "duration": 0.026674,
     "end_time": "2025-01-05T20:30:41.288814",
     "exception": false,
     "start_time": "2025-01-05T20:30:41.262140",
     "status": "completed"
    },
    "tags": []
   },
   "outputs": [
    {
     "data": {
      "text/plain": [
       "tensor([[-10.1838,   0.1386,   0.0000,  -0.4772,  -0.2632,  -0.0000,   0.0000,   0.0000,   0.2799,  -0.0000,   0.0000,   0.3625],\n",
       "        [-17.5902,   0.1386,   0.0000,  -0.9681,  -0.0000,  -0.3147,   0.4876,   0.0000,   0.0000,  -0.4392,   0.0000,   0.0000],\n",
       "        [-12.0354,   0.0000,   0.0000,  -0.4950,  -0.0000,  -0.3147,   0.0000,   0.0000,   0.2799,  -0.0000,   0.0000,   0.3625],\n",
       "        [-16.2015,   0.1386,   0.0000,  -0.9025,  -0.0000,  -0.3147,   0.4876,   0.0000,   0.0000,  -0.0000,   0.0000,   0.3625],\n",
       "        [-16.2015,   0.0000,   0.0000,  -0.4982,  -0.2632,  -0.0000,   0.0000,   0.0000,   0.2799,  -0.0000,   0.0000,   0.3625],\n",
       "        [-11.1096,   0.0000,   0.0000,  -0.5081,  -0.2632,  -0.0000,   0.0000,   0.0000,   0.2799,  -0.0000,   0.2103,   0.0000],\n",
       "        [-24.9966,   0.0000,   0.0000,  -0.8973,  -0.2632,  -0.0000,   0.4876,   0.0000,   0.0000,  -0.0000,   0.0000,   0.3625],\n",
       "        ...,\n",
       "        [-11.5725,   0.0000,   0.0000,  -0.4717,  -0.2632,  -0.0000,   0.0000,   0.0000,   0.2799,  -0.0000,   0.0000,   0.3625],\n",
       "        [-18.0531,   0.0000,   1.2045,  -0.7701,  -0.0000,  -0.3147,   0.0000,   0.0000,   0.2799,  -0.0000,   0.2103,   0.0000],\n",
       "        [-12.4983,   0.0000,   0.0000,  -0.5968,  -0.2632,  -0.0000,   0.0000,   0.3136,   0.0000,  -0.0000,   0.0000,   0.3625],\n",
       "        [ -8.7951,   0.0000,   0.0000,  -0.7766,  -0.0000,  -0.3147,   0.4876,   0.0000,   0.0000,  -0.0000,   0.0000,   0.3625],\n",
       "        [-11.1096,   0.1386,   0.4818,  -0.7229,  -0.0000,  -0.3147,   0.0000,   0.0000,   0.2799,  -0.0000,   0.0000,   0.3625],\n",
       "        [-12.0354,   0.0000,   0.0000,  -0.7766,  -0.2632,  -0.0000,   0.4876,   0.0000,   0.0000,  -0.4392,   0.0000,   0.0000],\n",
       "        [-14.8128,   0.0000,   0.0000,  -0.4905,  -0.2632,  -0.0000,   0.0000,   0.0000,   0.2799,  -0.0000,   0.2103,   0.0000]])"
      ]
     },
     "execution_count": 20,
     "metadata": {},
     "output_type": "execute_result"
    }
   ],
   "source": [
    "t_indep*coeffs # multiply matrix with vector, this is element wise multiplication (broadcasting)"
   ]
  },
  {
   "cell_type": "code",
   "execution_count": 21,
   "id": "89b809ee",
   "metadata": {
    "execution": {
     "iopub.execute_input": "2025-01-05T20:30:41.322574Z",
     "iopub.status.busy": "2025-01-05T20:30:41.322193Z",
     "iopub.status.idle": "2025-01-05T20:30:41.330635Z",
     "shell.execute_reply": "2025-01-05T20:30:41.329465Z"
    },
    "papermill": {
     "duration": 0.027993,
     "end_time": "2025-01-05T20:30:41.332772",
     "exception": false,
     "start_time": "2025-01-05T20:30:41.304779",
     "status": "completed"
    },
    "tags": []
   },
   "outputs": [],
   "source": [
    "vals,indices = t_indep.max(dim=0)\n",
    "t_indep = t_indep / vals # normalisieren, element wise division"
   ]
  },
  {
   "cell_type": "code",
   "execution_count": 22,
   "id": "53bb4ad0",
   "metadata": {
    "execution": {
     "iopub.execute_input": "2025-01-05T20:30:41.365599Z",
     "iopub.status.busy": "2025-01-05T20:30:41.365203Z",
     "iopub.status.idle": "2025-01-05T20:30:41.371033Z",
     "shell.execute_reply": "2025-01-05T20:30:41.370004Z"
    },
    "papermill": {
     "duration": 0.024122,
     "end_time": "2025-01-05T20:30:41.372757",
     "exception": false,
     "start_time": "2025-01-05T20:30:41.348635",
     "status": "completed"
    },
    "tags": []
   },
   "outputs": [],
   "source": [
    "preds = (t_indep*coeffs).sum(axis=1)"
   ]
  },
  {
   "cell_type": "code",
   "execution_count": 23,
   "id": "cb7d51be",
   "metadata": {
    "execution": {
     "iopub.execute_input": "2025-01-05T20:30:41.405357Z",
     "iopub.status.busy": "2025-01-05T20:30:41.404981Z",
     "iopub.status.idle": "2025-01-05T20:30:41.414135Z",
     "shell.execute_reply": "2025-01-05T20:30:41.413164Z"
    },
    "papermill": {
     "duration": 0.02714,
     "end_time": "2025-01-05T20:30:41.415617",
     "exception": false,
     "start_time": "2025-01-05T20:30:41.388477",
     "status": "completed"
    },
    "tags": []
   },
   "outputs": [
    {
     "data": {
      "text/plain": [
       "tensor([ 0.1927, -0.6239,  0.0979,  0.2056,  0.0968,  0.0066,  0.1306,  0.3476,  0.1613, -0.6285])"
      ]
     },
     "execution_count": 23,
     "metadata": {},
     "output_type": "execute_result"
    }
   ],
   "source": [
    "preds[:10]"
   ]
  },
  {
   "cell_type": "code",
   "execution_count": 24,
   "id": "fd68ef3d",
   "metadata": {
    "execution": {
     "iopub.execute_input": "2025-01-05T20:30:41.448549Z",
     "iopub.status.busy": "2025-01-05T20:30:41.448201Z",
     "iopub.status.idle": "2025-01-05T20:30:41.457417Z",
     "shell.execute_reply": "2025-01-05T20:30:41.456138Z"
    },
    "papermill": {
     "duration": 0.02756,
     "end_time": "2025-01-05T20:30:41.459202",
     "exception": false,
     "start_time": "2025-01-05T20:30:41.431642",
     "status": "completed"
    },
    "tags": []
   },
   "outputs": [
    {
     "data": {
      "text/plain": [
       "tensor(0.5382)"
      ]
     },
     "execution_count": 24,
     "metadata": {},
     "output_type": "execute_result"
    }
   ],
   "source": [
    "loss = torch.abs(preds-t_dep).mean()\n",
    "loss"
   ]
  },
  {
   "cell_type": "code",
   "execution_count": 25,
   "id": "2f47c7aa",
   "metadata": {
    "execution": {
     "iopub.execute_input": "2025-01-05T20:30:41.492432Z",
     "iopub.status.busy": "2025-01-05T20:30:41.492065Z",
     "iopub.status.idle": "2025-01-05T20:30:41.496724Z",
     "shell.execute_reply": "2025-01-05T20:30:41.495701Z"
    },
    "papermill": {
     "duration": 0.023491,
     "end_time": "2025-01-05T20:30:41.498615",
     "exception": false,
     "start_time": "2025-01-05T20:30:41.475124",
     "status": "completed"
    },
    "tags": []
   },
   "outputs": [],
   "source": [
    "def calc_preds(coeffs, indeps): return (indeps*coeffs).sum(axis=1)\n",
    "def calc_loss(coeffs, indeps, deps): return torch.abs(calc_preds(coeffs, indeps)-deps).mean()"
   ]
  },
  {
   "cell_type": "markdown",
   "id": "42bcd56d",
   "metadata": {
    "papermill": {
     "duration": 0.015826,
     "end_time": "2025-01-05T20:30:41.530200",
     "exception": false,
     "start_time": "2025-01-05T20:30:41.514374",
     "status": "completed"
    },
    "tags": []
   },
   "source": [
    "## Doing a gradient descent step"
   ]
  },
  {
   "cell_type": "code",
   "execution_count": 26,
   "id": "9a8b8c76",
   "metadata": {
    "execution": {
     "iopub.execute_input": "2025-01-05T20:30:41.564366Z",
     "iopub.status.busy": "2025-01-05T20:30:41.564017Z",
     "iopub.status.idle": "2025-01-05T20:30:41.571073Z",
     "shell.execute_reply": "2025-01-05T20:30:41.570139Z"
    },
    "papermill": {
     "duration": 0.026011,
     "end_time": "2025-01-05T20:30:41.572913",
     "exception": false,
     "start_time": "2025-01-05T20:30:41.546902",
     "status": "completed"
    },
    "tags": []
   },
   "outputs": [
    {
     "data": {
      "text/plain": [
       "tensor([-0.4629,  0.1386,  0.2409, -0.2262, -0.2632, -0.3147,  0.4876,  0.3136,  0.2799, -0.4392,  0.2103,  0.3625], requires_grad=True)"
      ]
     },
     "execution_count": 26,
     "metadata": {},
     "output_type": "execute_result"
    }
   ],
   "source": [
    "coeffs.requires_grad_() # underscore at the end -> inplace operation"
   ]
  },
  {
   "cell_type": "code",
   "execution_count": 27,
   "id": "20304fa9",
   "metadata": {
    "execution": {
     "iopub.execute_input": "2025-01-05T20:30:41.606751Z",
     "iopub.status.busy": "2025-01-05T20:30:41.606333Z",
     "iopub.status.idle": "2025-01-05T20:30:41.615091Z",
     "shell.execute_reply": "2025-01-05T20:30:41.614052Z"
    },
    "papermill": {
     "duration": 0.027699,
     "end_time": "2025-01-05T20:30:41.616838",
     "exception": false,
     "start_time": "2025-01-05T20:30:41.589139",
     "status": "completed"
    },
    "tags": []
   },
   "outputs": [
    {
     "data": {
      "text/plain": [
       "tensor(0.5382, grad_fn=<MeanBackward0>)"
      ]
     },
     "execution_count": 27,
     "metadata": {},
     "output_type": "execute_result"
    }
   ],
   "source": [
    "loss = calc_loss(coeffs, t_indep, t_dep)\n",
    "loss"
   ]
  },
  {
   "cell_type": "code",
   "execution_count": 28,
   "id": "c03c9d03",
   "metadata": {
    "execution": {
     "iopub.execute_input": "2025-01-05T20:30:41.659145Z",
     "iopub.status.busy": "2025-01-05T20:30:41.658552Z",
     "iopub.status.idle": "2025-01-05T20:30:41.676757Z",
     "shell.execute_reply": "2025-01-05T20:30:41.675658Z"
    },
    "papermill": {
     "duration": 0.042908,
     "end_time": "2025-01-05T20:30:41.678984",
     "exception": false,
     "start_time": "2025-01-05T20:30:41.636076",
     "status": "completed"
    },
    "tags": []
   },
   "outputs": [],
   "source": [
    "loss.backward()"
   ]
  },
  {
   "cell_type": "code",
   "execution_count": 29,
   "id": "d8abb0ed",
   "metadata": {
    "execution": {
     "iopub.execute_input": "2025-01-05T20:30:41.720671Z",
     "iopub.status.busy": "2025-01-05T20:30:41.720192Z",
     "iopub.status.idle": "2025-01-05T20:30:41.727045Z",
     "shell.execute_reply": "2025-01-05T20:30:41.726045Z"
    },
    "papermill": {
     "duration": 0.026204,
     "end_time": "2025-01-05T20:30:41.728874",
     "exception": false,
     "start_time": "2025-01-05T20:30:41.702670",
     "status": "completed"
    },
    "tags": []
   },
   "outputs": [
    {
     "data": {
      "text/plain": [
       "tensor([-0.0106,  0.0129, -0.0041, -0.0484,  0.2099, -0.2132, -0.1212, -0.0247,  0.1425, -0.1886, -0.0191,  0.2043])"
      ]
     },
     "execution_count": 29,
     "metadata": {},
     "output_type": "execute_result"
    }
   ],
   "source": [
    "coeffs.grad # tells you what happens tpo the loss when you increase the coefficient"
   ]
  },
  {
   "cell_type": "code",
   "execution_count": 30,
   "id": "f062caf9",
   "metadata": {
    "execution": {
     "iopub.execute_input": "2025-01-05T20:30:41.762841Z",
     "iopub.status.busy": "2025-01-05T20:30:41.762440Z",
     "iopub.status.idle": "2025-01-05T20:30:41.770691Z",
     "shell.execute_reply": "2025-01-05T20:30:41.769557Z"
    },
    "papermill": {
     "duration": 0.027034,
     "end_time": "2025-01-05T20:30:41.772342",
     "exception": false,
     "start_time": "2025-01-05T20:30:41.745308",
     "status": "completed"
    },
    "tags": []
   },
   "outputs": [
    {
     "name": "stdout",
     "output_type": "stream",
     "text": [
      "tensor(0.5197)\n"
     ]
    }
   ],
   "source": [
    "with torch.no_grad():\n",
    "    coeffs.sub_(coeffs.grad * 0.1)\n",
    "    print(calc_loss(coeffs, t_indep, t_dep))"
   ]
  },
  {
   "cell_type": "markdown",
   "id": "6efac31a",
   "metadata": {
    "papermill": {
     "duration": 0.021161,
     "end_time": "2025-01-05T20:30:41.814025",
     "exception": false,
     "start_time": "2025-01-05T20:30:41.792864",
     "status": "completed"
    },
    "tags": []
   },
   "source": [
    "##  Train the linear model"
   ]
  },
  {
   "cell_type": "code",
   "execution_count": 31,
   "id": "23cdb57d",
   "metadata": {
    "execution": {
     "iopub.execute_input": "2025-01-05T20:30:41.861708Z",
     "iopub.status.busy": "2025-01-05T20:30:41.861124Z",
     "iopub.status.idle": "2025-01-05T20:30:43.228405Z",
     "shell.execute_reply": "2025-01-05T20:30:43.227230Z"
    },
    "papermill": {
     "duration": 1.391641,
     "end_time": "2025-01-05T20:30:43.230481",
     "exception": false,
     "start_time": "2025-01-05T20:30:41.838840",
     "status": "completed"
    },
    "tags": []
   },
   "outputs": [],
   "source": [
    "from sklearn.model_selection import train_test_split\n",
    "\n",
    "trn_indep, val_indep, trn_dep, val_dep = train_test_split(\n",
    "    t_indep, \n",
    "    t_dep, \n",
    "    test_size=0.2,\n",
    "    random_state=42,\n",
    ")"
   ]
  },
  {
   "cell_type": "code",
   "execution_count": 32,
   "id": "dffce81a",
   "metadata": {
    "execution": {
     "iopub.execute_input": "2025-01-05T20:30:43.265640Z",
     "iopub.status.busy": "2025-01-05T20:30:43.265107Z",
     "iopub.status.idle": "2025-01-05T20:30:43.269727Z",
     "shell.execute_reply": "2025-01-05T20:30:43.268814Z"
    },
    "papermill": {
     "duration": 0.023273,
     "end_time": "2025-01-05T20:30:43.271261",
     "exception": false,
     "start_time": "2025-01-05T20:30:43.247988",
     "status": "completed"
    },
    "tags": []
   },
   "outputs": [],
   "source": [
    "def update_coeffs(coeffs, lr): coeffs.sub_(coeffs.grad * lr)"
   ]
  },
  {
   "cell_type": "code",
   "execution_count": 33,
   "id": "b00160cf",
   "metadata": {
    "execution": {
     "iopub.execute_input": "2025-01-05T20:30:43.305386Z",
     "iopub.status.busy": "2025-01-05T20:30:43.305052Z",
     "iopub.status.idle": "2025-01-05T20:30:43.309900Z",
     "shell.execute_reply": "2025-01-05T20:30:43.308971Z"
    },
    "papermill": {
     "duration": 0.023773,
     "end_time": "2025-01-05T20:30:43.311575",
     "exception": false,
     "start_time": "2025-01-05T20:30:43.287802",
     "status": "completed"
    },
    "tags": []
   },
   "outputs": [],
   "source": [
    "def one_epoch(coeffs, lr):\n",
    "    loss = calc_loss(coeffs, trn_indep, trn_dep)\n",
    "    loss.backward()\n",
    "    with torch.no_grad(): update_coeffs(coeffs, lr)\n",
    "    print(f\"{loss:.3f}\", end=\"; \")"
   ]
  },
  {
   "cell_type": "code",
   "execution_count": 34,
   "id": "7320ee9c",
   "metadata": {
    "execution": {
     "iopub.execute_input": "2025-01-05T20:30:43.346177Z",
     "iopub.status.busy": "2025-01-05T20:30:43.345777Z",
     "iopub.status.idle": "2025-01-05T20:30:43.350386Z",
     "shell.execute_reply": "2025-01-05T20:30:43.349424Z"
    },
    "papermill": {
     "duration": 0.02376,
     "end_time": "2025-01-05T20:30:43.352275",
     "exception": false,
     "start_time": "2025-01-05T20:30:43.328515",
     "status": "completed"
    },
    "tags": []
   },
   "outputs": [],
   "source": [
    "def init_coeffs(): return (torch.rand(n_coeff)-0.5).requires_grad_() # torch.rand creates random numbers between 0 and 1"
   ]
  },
  {
   "cell_type": "code",
   "execution_count": 35,
   "id": "1d76ca80",
   "metadata": {
    "execution": {
     "iopub.execute_input": "2025-01-05T20:30:43.386532Z",
     "iopub.status.busy": "2025-01-05T20:30:43.386177Z",
     "iopub.status.idle": "2025-01-05T20:30:43.390757Z",
     "shell.execute_reply": "2025-01-05T20:30:43.389822Z"
    },
    "papermill": {
     "duration": 0.023465,
     "end_time": "2025-01-05T20:30:43.392342",
     "exception": false,
     "start_time": "2025-01-05T20:30:43.368877",
     "status": "completed"
    },
    "tags": []
   },
   "outputs": [],
   "source": [
    "def train_model(epochs=30,lr=0.01):\n",
    "    torch.manual_seed(442)\n",
    "    coeffs = init_coeffs()\n",
    "    for i in range(epochs): one_epoch(coeffs, lr=lr)\n",
    "    return coeffs"
   ]
  },
  {
   "cell_type": "code",
   "execution_count": 36,
   "id": "d66753f3",
   "metadata": {
    "execution": {
     "iopub.execute_input": "2025-01-05T20:30:43.426390Z",
     "iopub.status.busy": "2025-01-05T20:30:43.426047Z",
     "iopub.status.idle": "2025-01-05T20:30:43.456402Z",
     "shell.execute_reply": "2025-01-05T20:30:43.455269Z"
    },
    "papermill": {
     "duration": 0.04957,
     "end_time": "2025-01-05T20:30:43.458302",
     "exception": false,
     "start_time": "2025-01-05T20:30:43.408732",
     "status": "completed"
    },
    "tags": []
   },
   "outputs": [
    {
     "name": "stdout",
     "output_type": "stream",
     "text": [
      "0.526; 0.495; 0.476; 0.395; 0.338; 0.289; 0.334; 0.400; 0.442; 0.447; 0.405; 0.393; 0.351; 0.394; 0.366; 0.402; 0.433; 0.451; 0.445; 0.435; 0.446; 0.456; 0.457; 0.469; 0.445; 0.385; 0.295; 0.378; 0.387; 0.475; "
     ]
    }
   ],
   "source": [
    "coeffs = train_model(lr=0.2)"
   ]
  },
  {
   "cell_type": "code",
   "execution_count": 37,
   "id": "9ec01f9c",
   "metadata": {
    "execution": {
     "iopub.execute_input": "2025-01-05T20:30:43.492293Z",
     "iopub.status.busy": "2025-01-05T20:30:43.491926Z",
     "iopub.status.idle": "2025-01-05T20:30:43.502660Z",
     "shell.execute_reply": "2025-01-05T20:30:43.501705Z"
    },
    "papermill": {
     "duration": 0.029594,
     "end_time": "2025-01-05T20:30:43.504289",
     "exception": false,
     "start_time": "2025-01-05T20:30:43.474695",
     "status": "completed"
    },
    "tags": []
   },
   "outputs": [
    {
     "data": {
      "text/plain": [
       "{'Age': tensor(-0.0962),\n",
       " 'SibSp': tensor(-0.3585),\n",
       " 'Parch': tensor(-0.1989),\n",
       " 'LogFare': tensor(0.1710),\n",
       " 'Sex_male': tensor(-0.4922),\n",
       " 'Sex_female': tensor(0.2361),\n",
       " 'Pclass_1': tensor(0.5716),\n",
       " 'Pclass_2': tensor(-0.0968),\n",
       " 'Pclass_3': tensor(0.9282),\n",
       " 'Embarked_C': tensor(0.2195),\n",
       " 'Embarked_Q': tensor(0.2552),\n",
       " 'Embarked_S': tensor(-0.0192)}"
      ]
     },
     "execution_count": 37,
     "metadata": {},
     "output_type": "execute_result"
    }
   ],
   "source": [
    "def show_coeffs(): return dict(zip(indep_cols, coeffs.requires_grad_(False)))\n",
    "show_coeffs()"
   ]
  },
  {
   "cell_type": "markdown",
   "id": "23fef43a",
   "metadata": {
    "papermill": {
     "duration": 0.016872,
     "end_time": "2025-01-05T20:30:43.538012",
     "exception": false,
     "start_time": "2025-01-05T20:30:43.521140",
     "status": "completed"
    },
    "tags": []
   },
   "source": [
    "## Measuring accuracy"
   ]
  },
  {
   "cell_type": "code",
   "execution_count": 38,
   "id": "0040fa6f",
   "metadata": {
    "execution": {
     "iopub.execute_input": "2025-01-05T20:30:43.572238Z",
     "iopub.status.busy": "2025-01-05T20:30:43.571854Z",
     "iopub.status.idle": "2025-01-05T20:30:43.576158Z",
     "shell.execute_reply": "2025-01-05T20:30:43.575262Z"
    },
    "papermill": {
     "duration": 0.023397,
     "end_time": "2025-01-05T20:30:43.577803",
     "exception": false,
     "start_time": "2025-01-05T20:30:43.554406",
     "status": "completed"
    },
    "tags": []
   },
   "outputs": [],
   "source": [
    "preds = calc_preds(coeffs, val_indep)"
   ]
  },
  {
   "cell_type": "code",
   "execution_count": 39,
   "id": "12f81d80",
   "metadata": {
    "execution": {
     "iopub.execute_input": "2025-01-05T20:30:43.612229Z",
     "iopub.status.busy": "2025-01-05T20:30:43.611815Z",
     "iopub.status.idle": "2025-01-05T20:30:43.620702Z",
     "shell.execute_reply": "2025-01-05T20:30:43.619674Z"
    },
    "papermill": {
     "duration": 0.028291,
     "end_time": "2025-01-05T20:30:43.622445",
     "exception": false,
     "start_time": "2025-01-05T20:30:43.594154",
     "status": "completed"
    },
    "tags": []
   },
   "outputs": [
    {
     "data": {
      "text/plain": [
       "tensor([ True,  True,  True, False,  True,  True,  True,  True,  True,  True,  True,  True, False, False,  True,  True])"
      ]
     },
     "execution_count": 39,
     "metadata": {},
     "output_type": "execute_result"
    }
   ],
   "source": [
    "results = val_dep.bool()==(preds>0.5) # copare actual and predction\n",
    "results[:16]"
   ]
  },
  {
   "cell_type": "code",
   "execution_count": 40,
   "id": "6d6bbc22",
   "metadata": {
    "execution": {
     "iopub.execute_input": "2025-01-05T20:30:43.656820Z",
     "iopub.status.busy": "2025-01-05T20:30:43.656400Z",
     "iopub.status.idle": "2025-01-05T20:30:43.663489Z",
     "shell.execute_reply": "2025-01-05T20:30:43.662445Z"
    },
    "papermill": {
     "duration": 0.025976,
     "end_time": "2025-01-05T20:30:43.665198",
     "exception": false,
     "start_time": "2025-01-05T20:30:43.639222",
     "status": "completed"
    },
    "tags": []
   },
   "outputs": [
    {
     "data": {
      "text/plain": [
       "tensor(0.6816)"
      ]
     },
     "execution_count": 40,
     "metadata": {},
     "output_type": "execute_result"
    }
   ],
   "source": [
    "results.float().mean() # accuracy"
   ]
  },
  {
   "cell_type": "code",
   "execution_count": 41,
   "id": "6e71be77",
   "metadata": {
    "execution": {
     "iopub.execute_input": "2025-01-05T20:30:43.700951Z",
     "iopub.status.busy": "2025-01-05T20:30:43.700522Z",
     "iopub.status.idle": "2025-01-05T20:30:43.707409Z",
     "shell.execute_reply": "2025-01-05T20:30:43.706602Z"
    },
    "papermill": {
     "duration": 0.025695,
     "end_time": "2025-01-05T20:30:43.708904",
     "exception": false,
     "start_time": "2025-01-05T20:30:43.683209",
     "status": "completed"
    },
    "tags": []
   },
   "outputs": [
    {
     "data": {
      "text/plain": [
       "tensor(0.6816)"
      ]
     },
     "execution_count": 41,
     "metadata": {},
     "output_type": "execute_result"
    }
   ],
   "source": [
    "def acc(coeffs): return (val_dep.bool()==(calc_preds(coeffs, val_indep)>0.5)).float().mean()\n",
    "acc(coeffs)"
   ]
  },
  {
   "cell_type": "markdown",
   "id": "23110944",
   "metadata": {
    "papermill": {
     "duration": 0.016459,
     "end_time": "2025-01-05T20:30:43.742160",
     "exception": false,
     "start_time": "2025-01-05T20:30:43.725701",
     "status": "completed"
    },
    "tags": []
   },
   "source": [
    "## Using sigmoid"
   ]
  },
  {
   "cell_type": "code",
   "execution_count": 42,
   "id": "34214d0b",
   "metadata": {
    "execution": {
     "iopub.execute_input": "2025-01-05T20:30:43.777153Z",
     "iopub.status.busy": "2025-01-05T20:30:43.776813Z",
     "iopub.status.idle": "2025-01-05T20:30:43.784008Z",
     "shell.execute_reply": "2025-01-05T20:30:43.782839Z"
    },
    "papermill": {
     "duration": 0.026894,
     "end_time": "2025-01-05T20:30:43.785682",
     "exception": false,
     "start_time": "2025-01-05T20:30:43.758788",
     "status": "completed"
    },
    "tags": []
   },
   "outputs": [
    {
     "data": {
      "text/plain": [
       "tensor([ 0.6251, -0.5786,  0.4527,  0.1763,  1.3908,  0.8772,  1.4501,  0.3886,  1.4597,  0.7899,  0.0802,  0.4242,  1.0384,  0.6772,\n",
       "        -0.5792,  0.8374,  0.0739,  1.4504, -0.5684,  0.1125,  0.4478,  0.1102,  1.1372,  0.4564,  0.4630,  0.2962,  0.3429, -0.5732])"
      ]
     },
     "execution_count": 42,
     "metadata": {},
     "output_type": "execute_result"
    }
   ],
   "source": [
    "preds[:28]"
   ]
  },
  {
   "cell_type": "code",
   "execution_count": 43,
   "id": "21d4d16f",
   "metadata": {
    "execution": {
     "iopub.execute_input": "2025-01-05T20:30:43.820368Z",
     "iopub.status.busy": "2025-01-05T20:30:43.820011Z",
     "iopub.status.idle": "2025-01-05T20:30:43.995184Z",
     "shell.execute_reply": "2025-01-05T20:30:43.993994Z"
    },
    "papermill": {
     "duration": 0.194606,
     "end_time": "2025-01-05T20:30:43.997046",
     "exception": false,
     "start_time": "2025-01-05T20:30:43.802440",
     "status": "completed"
    },
    "tags": []
   },
   "outputs": [
    {
     "data": {
      "image/png": "[encoded data removed]",
      "text/plain": [
       "<Figure size 640x480 with 1 Axes>"
      ]
     },
     "metadata": {},
     "output_type": "display_data"
    }
   ],
   "source": [
    "sigmoid = lambda x: (1/(1+np.exp(-x)))\n",
    "x = sigmoid(np.linspace(-5,5,50))\n",
    "import matplotlib.pyplot as plt\n",
    "plt.plot(x);"
   ]
  },
  {
   "cell_type": "code",
   "execution_count": 44,
   "id": "2d83dbaa",
   "metadata": {
    "execution": {
     "iopub.execute_input": "2025-01-05T20:30:44.033069Z",
     "iopub.status.busy": "2025-01-05T20:30:44.032688Z",
     "iopub.status.idle": "2025-01-05T20:30:44.037237Z",
     "shell.execute_reply": "2025-01-05T20:30:44.036236Z"
    },
    "papermill": {
     "duration": 0.024764,
     "end_time": "2025-01-05T20:30:44.038993",
     "exception": false,
     "start_time": "2025-01-05T20:30:44.014229",
     "status": "completed"
    },
    "tags": []
   },
   "outputs": [],
   "source": [
    "def calc_preds(coeffs, indeps): return torch.sigmoid((indeps*coeffs).sum(axis=1))"
   ]
  },
  {
   "cell_type": "code",
   "execution_count": 45,
   "id": "9733e3bf",
   "metadata": {
    "execution": {
     "iopub.execute_input": "2025-01-05T20:30:44.074542Z",
     "iopub.status.busy": "2025-01-05T20:30:44.074180Z",
     "iopub.status.idle": "2025-01-05T20:30:44.105305Z",
     "shell.execute_reply": "2025-01-05T20:30:44.104169Z"
    },
    "papermill": {
     "duration": 0.050965,
     "end_time": "2025-01-05T20:30:44.107169",
     "exception": false,
     "start_time": "2025-01-05T20:30:44.056204",
     "status": "completed"
    },
    "tags": []
   },
   "outputs": [
    {
     "name": "stdout",
     "output_type": "stream",
     "text": [
      "0.512; 0.469; 0.396; 0.338; 0.308; 0.287; 0.266; 0.244; 0.224; 0.211; 0.204; 0.200; 0.198; 0.197; 0.197; 0.198; 0.198; 0.198; 0.198; 0.198; 0.197; 0.197; 0.196; 0.194; 0.193; 0.191; 0.190; 0.188; 0.187; 0.186; "
     ]
    }
   ],
   "source": [
    "coeffs = train_model(lr=2)"
   ]
  },
  {
   "cell_type": "code",
   "execution_count": 46,
   "id": "ae67e154",
   "metadata": {
    "execution": {
     "iopub.execute_input": "2025-01-05T20:30:44.143348Z",
     "iopub.status.busy": "2025-01-05T20:30:44.143019Z",
     "iopub.status.idle": "2025-01-05T20:30:44.149950Z",
     "shell.execute_reply": "2025-01-05T20:30:44.148906Z"
    },
    "papermill": {
     "duration": 0.027023,
     "end_time": "2025-01-05T20:30:44.151849",
     "exception": false,
     "start_time": "2025-01-05T20:30:44.124826",
     "status": "completed"
    },
    "tags": []
   },
   "outputs": [
    {
     "data": {
      "text/plain": [
       "tensor(0.7933)"
      ]
     },
     "execution_count": 46,
     "metadata": {},
     "output_type": "execute_result"
    }
   ],
   "source": [
    "acc(coeffs)"
   ]
  },
  {
   "cell_type": "code",
   "execution_count": 47,
   "id": "3b2eed91",
   "metadata": {
    "execution": {
     "iopub.execute_input": "2025-01-05T20:30:44.188309Z",
     "iopub.status.busy": "2025-01-05T20:30:44.187955Z",
     "iopub.status.idle": "2025-01-05T20:30:44.199725Z",
     "shell.execute_reply": "2025-01-05T20:30:44.198570Z"
    },
    "papermill": {
     "duration": 0.032296,
     "end_time": "2025-01-05T20:30:44.201752",
     "exception": false,
     "start_time": "2025-01-05T20:30:44.169456",
     "status": "completed"
    },
    "tags": []
   },
   "outputs": [
    {
     "data": {
      "text/plain": [
       "{'Age': tensor(-1.0444),\n",
       " 'SibSp': tensor(-1.5258),\n",
       " 'Parch': tensor(-0.2144),\n",
       " 'LogFare': tensor(1.7212),\n",
       " 'Sex_male': tensor(-19.1594),\n",
       " 'Sex_female': tensor(16.4982),\n",
       " 'Pclass_1': tensor(7.2695),\n",
       " 'Pclass_2': tensor(4.9722),\n",
       " 'Pclass_3': tensor(-13.2439),\n",
       " 'Embarked_C': tensor(3.3664),\n",
       " 'Embarked_Q': tensor(0.9411),\n",
       " 'Embarked_S': tensor(-6.2571)}"
      ]
     },
     "execution_count": 47,
     "metadata": {},
     "output_type": "execute_result"
    }
   ],
   "source": [
    "show_coeffs()"
   ]
  },
  {
   "cell_type": "markdown",
   "id": "9b2be4ec",
   "metadata": {
    "papermill": {
     "duration": 0.016996,
     "end_time": "2025-01-05T20:30:44.236155",
     "exception": false,
     "start_time": "2025-01-05T20:30:44.219159",
     "status": "completed"
    },
    "tags": []
   },
   "source": [
    "## Submitting to Kaggle"
   ]
  },
  {
   "cell_type": "code",
   "execution_count": 48,
   "id": "a6f7c950",
   "metadata": {
    "execution": {
     "iopub.execute_input": "2025-01-05T20:30:44.271809Z",
     "iopub.status.busy": "2025-01-05T20:30:44.271432Z",
     "iopub.status.idle": "2025-01-05T20:30:44.283639Z",
     "shell.execute_reply": "2025-01-05T20:30:44.282611Z"
    },
    "papermill": {
     "duration": 0.032365,
     "end_time": "2025-01-05T20:30:44.285545",
     "exception": false,
     "start_time": "2025-01-05T20:30:44.253180",
     "status": "completed"
    },
    "tags": []
   },
   "outputs": [],
   "source": [
    "tst_df = pd.read_csv(path/'test.csv')"
   ]
  },
  {
   "cell_type": "code",
   "execution_count": 49,
   "id": "d1764e8a",
   "metadata": {
    "execution": {
     "iopub.execute_input": "2025-01-05T20:30:44.322271Z",
     "iopub.status.busy": "2025-01-05T20:30:44.321887Z",
     "iopub.status.idle": "2025-01-05T20:30:44.326949Z",
     "shell.execute_reply": "2025-01-05T20:30:44.325981Z"
    },
    "papermill": {
     "duration": 0.025237,
     "end_time": "2025-01-05T20:30:44.328768",
     "exception": false,
     "start_time": "2025-01-05T20:30:44.303531",
     "status": "completed"
    },
    "tags": []
   },
   "outputs": [],
   "source": [
    "tst_df['Fare'] = tst_df.Fare.fillna(0)"
   ]
  },
  {
   "cell_type": "code",
   "execution_count": 50,
   "id": "4efb8c31",
   "metadata": {
    "execution": {
     "iopub.execute_input": "2025-01-05T20:30:44.365206Z",
     "iopub.status.busy": "2025-01-05T20:30:44.364834Z",
     "iopub.status.idle": "2025-01-05T20:30:44.378640Z",
     "shell.execute_reply": "2025-01-05T20:30:44.377529Z"
    },
    "papermill": {
     "duration": 0.033909,
     "end_time": "2025-01-05T20:30:44.380325",
     "exception": false,
     "start_time": "2025-01-05T20:30:44.346416",
     "status": "completed"
    },
    "tags": []
   },
   "outputs": [
    {
     "data": {
      "text/html": [
       "<div>\n",
       "<style scoped>\n",
       "    .dataframe tbody tr th:only-of-type {\n",
       "        vertical-align: middle;\n",
       "    }\n",
       "\n",
       "    .dataframe tbody tr th {\n",
       "        vertical-align: top;\n",
       "    }\n",
       "\n",
       "    .dataframe thead th {\n",
       "        text-align: right;\n",
       "    }\n",
       "</style>\n",
       "<table border=\"1\" class=\"dataframe\">\n",
       "  <thead>\n",
       "    <tr style=\"text-align: right;\">\n",
       "      <th></th>\n",
       "      <th>PassengerId</th>\n",
       "      <th>Pclass</th>\n",
       "      <th>Name</th>\n",
       "      <th>Sex</th>\n",
       "      <th>Age</th>\n",
       "      <th>SibSp</th>\n",
       "      <th>Parch</th>\n",
       "      <th>Ticket</th>\n",
       "      <th>Fare</th>\n",
       "      <th>Cabin</th>\n",
       "      <th>Embarked</th>\n",
       "    </tr>\n",
       "  </thead>\n",
       "  <tbody>\n",
       "    <tr>\n",
       "      <th>0</th>\n",
       "      <td>892</td>\n",
       "      <td>3</td>\n",
       "      <td>Kelly, Mr. James</td>\n",
       "      <td>male</td>\n",
       "      <td>34.5</td>\n",
       "      <td>0</td>\n",
       "      <td>0</td>\n",
       "      <td>330911</td>\n",
       "      <td>7.8292</td>\n",
       "      <td>NaN</td>\n",
       "      <td>Q</td>\n",
       "    </tr>\n",
       "    <tr>\n",
       "      <th>1</th>\n",
       "      <td>893</td>\n",
       "      <td>3</td>\n",
       "      <td>Wilkes, Mrs. James (Ellen Needs)</td>\n",
       "      <td>female</td>\n",
       "      <td>47.0</td>\n",
       "      <td>1</td>\n",
       "      <td>0</td>\n",
       "      <td>363272</td>\n",
       "      <td>7.0000</td>\n",
       "      <td>NaN</td>\n",
       "      <td>S</td>\n",
       "    </tr>\n",
       "    <tr>\n",
       "      <th>2</th>\n",
       "      <td>894</td>\n",
       "      <td>2</td>\n",
       "      <td>Myles, Mr. Thomas Francis</td>\n",
       "      <td>male</td>\n",
       "      <td>62.0</td>\n",
       "      <td>0</td>\n",
       "      <td>0</td>\n",
       "      <td>240276</td>\n",
       "      <td>9.6875</td>\n",
       "      <td>NaN</td>\n",
       "      <td>Q</td>\n",
       "    </tr>\n",
       "    <tr>\n",
       "      <th>3</th>\n",
       "      <td>895</td>\n",
       "      <td>3</td>\n",
       "      <td>Wirz, Mr. Albert</td>\n",
       "      <td>male</td>\n",
       "      <td>27.0</td>\n",
       "      <td>0</td>\n",
       "      <td>0</td>\n",
       "      <td>315154</td>\n",
       "      <td>8.6625</td>\n",
       "      <td>NaN</td>\n",
       "      <td>S</td>\n",
       "    </tr>\n",
       "    <tr>\n",
       "      <th>4</th>\n",
       "      <td>896</td>\n",
       "      <td>3</td>\n",
       "      <td>Hirvonen, Mrs. Alexander (Helga E Lindqvist)</td>\n",
       "      <td>female</td>\n",
       "      <td>22.0</td>\n",
       "      <td>1</td>\n",
       "      <td>1</td>\n",
       "      <td>3101298</td>\n",
       "      <td>12.2875</td>\n",
       "      <td>NaN</td>\n",
       "      <td>S</td>\n",
       "    </tr>\n",
       "  </tbody>\n",
       "</table>\n",
       "</div>"
      ],
      "text/plain": [
       "   PassengerId  Pclass                                          Name     Sex   Age  SibSp  Parch   Ticket     Fare Cabin Embarked\n",
       "0          892       3                              Kelly, Mr. James    male  34.5      0      0   330911   7.8292   NaN        Q\n",
       "1          893       3              Wilkes, Mrs. James (Ellen Needs)  female  47.0      1      0   363272   7.0000   NaN        S\n",
       "2          894       2                     Myles, Mr. Thomas Francis    male  62.0      0      0   240276   9.6875   NaN        Q\n",
       "3          895       3                              Wirz, Mr. Albert    male  27.0      0      0   315154   8.6625   NaN        S\n",
       "4          896       3  Hirvonen, Mrs. Alexander (Helga E Lindqvist)  female  22.0      1      1  3101298  12.2875   NaN        S"
      ]
     },
     "execution_count": 50,
     "metadata": {},
     "output_type": "execute_result"
    }
   ],
   "source": [
    "tst_df.head()"
   ]
  },
  {
   "cell_type": "code",
   "execution_count": 51,
   "id": "51209262",
   "metadata": {
    "execution": {
     "iopub.execute_input": "2025-01-05T20:30:44.417449Z",
     "iopub.status.busy": "2025-01-05T20:30:44.417113Z",
     "iopub.status.idle": "2025-01-05T20:30:44.439042Z",
     "shell.execute_reply": "2025-01-05T20:30:44.438028Z"
    },
    "papermill": {
     "duration": 0.042583,
     "end_time": "2025-01-05T20:30:44.440978",
     "exception": false,
     "start_time": "2025-01-05T20:30:44.398395",
     "status": "completed"
    },
    "tags": []
   },
   "outputs": [],
   "source": [
    "tst_df.fillna(modes, inplace=True)\n",
    "tst_df['LogFare'] = np.log(tst_df['Fare']+1)\n",
    "tst_df = pd.get_dummies(tst_df, columns=[\"Sex\",\"Pclass\",\"Embarked\"])\n",
    "tst_df[indep_cols] = tst_df[indep_cols].apply(lambda col: col.astype(int) if col.dtypes == 'bool' else col)\n",
    "\n",
    "tst_indep = tensor(tst_df[indep_cols].values, dtype=torch.float)\n",
    "tst_indep = tst_indep / vals"
   ]
  },
  {
   "cell_type": "code",
   "execution_count": 52,
   "id": "47ad97a8",
   "metadata": {
    "execution": {
     "iopub.execute_input": "2025-01-05T20:30:44.477441Z",
     "iopub.status.busy": "2025-01-05T20:30:44.477109Z",
     "iopub.status.idle": "2025-01-05T20:30:44.482508Z",
     "shell.execute_reply": "2025-01-05T20:30:44.481488Z"
    },
    "papermill": {
     "duration": 0.025638,
     "end_time": "2025-01-05T20:30:44.484245",
     "exception": false,
     "start_time": "2025-01-05T20:30:44.458607",
     "status": "completed"
    },
    "tags": []
   },
   "outputs": [],
   "source": [
    "tst_df['Survived'] = (calc_preds(tst_indep, coeffs)>0.5).int()"
   ]
  },
  {
   "cell_type": "code",
   "execution_count": 53,
   "id": "54f115f9",
   "metadata": {
    "execution": {
     "iopub.execute_input": "2025-01-05T20:30:44.520479Z",
     "iopub.status.busy": "2025-01-05T20:30:44.520120Z",
     "iopub.status.idle": "2025-01-05T20:30:44.529782Z",
     "shell.execute_reply": "2025-01-05T20:30:44.528949Z"
    },
    "papermill": {
     "duration": 0.029646,
     "end_time": "2025-01-05T20:30:44.531434",
     "exception": false,
     "start_time": "2025-01-05T20:30:44.501788",
     "status": "completed"
    },
    "tags": []
   },
   "outputs": [],
   "source": [
    "sub_df = tst_df[['PassengerId','Survived']]\n",
    "sub_df.to_csv('submission.csv', index=False)"
   ]
  },
  {
   "cell_type": "code",
   "execution_count": 54,
   "id": "6f8c72cb",
   "metadata": {
    "execution": {
     "iopub.execute_input": "2025-01-05T20:30:44.621840Z",
     "iopub.status.busy": "2025-01-05T20:30:44.621431Z",
     "iopub.status.idle": "2025-01-05T20:30:44.754892Z",
     "shell.execute_reply": "2025-01-05T20:30:44.753411Z"
    },
    "papermill": {
     "duration": 0.207675,
     "end_time": "2025-01-05T20:30:44.756836",
     "exception": false,
     "start_time": "2025-01-05T20:30:44.549161",
     "status": "completed"
    },
    "tags": []
   },
   "outputs": [
    {
     "name": "stdout",
     "output_type": "stream",
     "text": [
      "PassengerId,Survived\r\n",
      "892,0\r\n",
      "893,0\r\n",
      "894,0\r\n",
      "895,0\r\n",
      "896,0\r\n",
      "897,0\r\n",
      "898,1\r\n",
      "899,0\r\n",
      "900,1\r\n"
     ]
    }
   ],
   "source": [
    "!head submission.csv"
   ]
  },
  {
   "cell_type": "markdown",
   "id": "7e972dd6",
   "metadata": {
    "papermill": {
     "duration": 0.017287,
     "end_time": "2025-01-05T20:30:44.791762",
     "exception": false,
     "start_time": "2025-01-05T20:30:44.774475",
     "status": "completed"
    },
    "tags": []
   },
   "source": [
    "## Using matrix product"
   ]
  },
  {
   "cell_type": "code",
   "execution_count": 55,
   "id": "77a35e00",
   "metadata": {
    "execution": {
     "iopub.execute_input": "2025-01-05T20:30:44.828158Z",
     "iopub.status.busy": "2025-01-05T20:30:44.827760Z",
     "iopub.status.idle": "2025-01-05T20:30:44.837383Z",
     "shell.execute_reply": "2025-01-05T20:30:44.836398Z"
    },
    "papermill": {
     "duration": 0.030046,
     "end_time": "2025-01-05T20:30:44.839215",
     "exception": false,
     "start_time": "2025-01-05T20:30:44.809169",
     "status": "completed"
    },
    "tags": []
   },
   "outputs": [
    {
     "data": {
      "text/plain": [
       "tensor([-28.8078, -20.1754, -38.3178,  16.0718,   6.9380,  18.3792,   4.4803, -38.4386,   4.5847,  18.1029, -17.7201, -38.6273,  -3.0206,\n",
       "        -28.8473, -20.1864,  18.2861, -17.7881,   4.4828, -20.0689, -17.6655, -38.3709, -17.6763,  -2.8401, -38.2803, -38.2178, -38.5068,\n",
       "         -8.1196, -20.1211, -38.4285,  -2.8061, -38.3056,  -2.6918,  -7.8835,  -2.7243, -38.2878, -28.8250, -17.5204,   4.4803,  27.6983,\n",
       "        -38.3709, -19.9110, -38.6546, -38.3662, -31.1773,   6.7526, -38.1837, -38.2976, -38.3195, -38.3985,  -8.0452,   6.9680,  17.8598,\n",
       "        -38.5885, -17.2301, -31.7125,  18.4149, -20.1884,  27.9668,  15.6089,   4.5496, -38.3355,  15.8409,  15.5660, -17.5521, -31.1773,\n",
       "         15.1428, -19.5295, -38.4368, -28.9040,  27.4705,  15.5564,  27.9834,  -7.9158,  27.6210, -38.3592, -38.5471,   4.3954,  27.8571,\n",
       "         15.4450,  -2.7671, -38.6458,  15.5083,  27.7393, -31.1777,  -8.3013,  -8.3686,  27.8456,  27.8620, -18.6430, -38.3917, -38.0029,\n",
       "         -2.9965, -17.9763, -31.1779, -38.3709, -38.4244, -17.8693, -38.6403,  15.4711, -38.4101, -18.0735, -38.5395,  27.9427, -38.5812,\n",
       "        -38.4510, -38.5785,  15.4820, -17.7466, -38.4035,  -8.0898,  18.1015, -38.3460,  27.8714, -17.7050, -16.9693, -38.2640,  -8.4647,\n",
       "        -10.5653,  15.6376,  -2.9439, -20.4651,  27.9154,  17.7023, -19.5885, -38.4048,  -8.0658,  17.7792,  -7.6275,   6.8718, -38.3270,\n",
       "          4.4843, -28.8078, -20.7576,  -2.3508,  -8.2343,   6.9892,  28.1218, -38.4400, -38.6168,  -2.6194, -38.3156,  15.3571, -20.0819,\n",
       "        -20.2090,   4.4468,  15.5114, -20.1081, -20.6323,  28.0074, -38.6142, -28.7232, -38.3836, -38.2957,   4.5807, -38.3662, -38.3985,\n",
       "        -37.8562,   4.4815,  15.4616,   4.3243, -28.7623, -17.5457, -20.2255,  27.8493, -31.1558,  -8.2651, -20.0709,  18.1008, -38.3448,\n",
       "        -38.5421,  -7.7109,  15.6347, -17.7040,   7.0456, -38.3045, -28.7690,  -2.9091,  15.6649,  -2.4890])"
      ]
     },
     "execution_count": 55,
     "metadata": {},
     "output_type": "execute_result"
    }
   ],
   "source": [
    "(val_indep*coeffs).sum(axis=1)"
   ]
  },
  {
   "cell_type": "code",
   "execution_count": 56,
   "id": "0ce8a0ad",
   "metadata": {
    "execution": {
     "iopub.execute_input": "2025-01-05T20:30:44.876757Z",
     "iopub.status.busy": "2025-01-05T20:30:44.876333Z",
     "iopub.status.idle": "2025-01-05T20:30:44.892040Z",
     "shell.execute_reply": "2025-01-05T20:30:44.890968Z"
    },
    "papermill": {
     "duration": 0.036319,
     "end_time": "2025-01-05T20:30:44.893713",
     "exception": false,
     "start_time": "2025-01-05T20:30:44.857394",
     "status": "completed"
    },
    "tags": []
   },
   "outputs": [
    {
     "data": {
      "text/plain": [
       "tensor([-28.8078, -20.1754, -38.3178,  16.0718,   6.9380,  18.3792,   4.4803, -38.4386,   4.5847,  18.1029, -17.7201, -38.6273,  -3.0206,\n",
       "        -28.8473, -20.1864,  18.2861, -17.7881,   4.4828, -20.0689, -17.6655, -38.3709, -17.6763,  -2.8401, -38.2803, -38.2178, -38.5068,\n",
       "         -8.1196, -20.1211, -38.4285,  -2.8061, -38.3056,  -2.6918,  -7.8835,  -2.7243, -38.2878, -28.8250, -17.5204,   4.4803,  27.6983,\n",
       "        -38.3709, -19.9110, -38.6546, -38.3662, -31.1773,   6.7526, -38.1837, -38.2976, -38.3195, -38.3985,  -8.0452,   6.9680,  17.8598,\n",
       "        -38.5885, -17.2301, -31.7125,  18.4149, -20.1884,  27.9668,  15.6089,   4.5496, -38.3355,  15.8409,  15.5660, -17.5521, -31.1773,\n",
       "         15.1428, -19.5295, -38.4368, -28.9040,  27.4705,  15.5564,  27.9834,  -7.9158,  27.6210, -38.3592, -38.5471,   4.3954,  27.8571,\n",
       "         15.4450,  -2.7671, -38.6458,  15.5083,  27.7393, -31.1777,  -8.3013,  -8.3686,  27.8456,  27.8620, -18.6430, -38.3917, -38.0029,\n",
       "         -2.9965, -17.9763, -31.1779, -38.3709, -38.4244, -17.8693, -38.6403,  15.4711, -38.4101, -18.0735, -38.5395,  27.9427, -38.5812,\n",
       "        -38.4510, -38.5785,  15.4820, -17.7466, -38.4035,  -8.0898,  18.1015, -38.3460,  27.8714, -17.7050, -16.9693, -38.2640,  -8.4647,\n",
       "        -10.5653,  15.6376,  -2.9439, -20.4651,  27.9154,  17.7023, -19.5885, -38.4048,  -8.0658,  17.7792,  -7.6275,   6.8718, -38.3270,\n",
       "          4.4843, -28.8078, -20.7576,  -2.3508,  -8.2343,   6.9892,  28.1218, -38.4400, -38.6168,  -2.6194, -38.3156,  15.3571, -20.0819,\n",
       "        -20.2090,   4.4468,  15.5114, -20.1081, -20.6323,  28.0074, -38.6142, -28.7232, -38.3836, -38.2957,   4.5807, -38.3662, -38.3985,\n",
       "        -37.8562,   4.4815,  15.4616,   4.3243, -28.7623, -17.5457, -20.2255,  27.8493, -31.1558,  -8.2651, -20.0709,  18.1008, -38.3448,\n",
       "        -38.5421,  -7.7109,  15.6347, -17.7040,   7.0456, -38.3045, -28.7690,  -2.9091,  15.6649,  -2.4890])"
      ]
     },
     "execution_count": 56,
     "metadata": {},
     "output_type": "execute_result"
    }
   ],
   "source": [
    "val_indep@coeffs"
   ]
  },
  {
   "cell_type": "code",
   "execution_count": 57,
   "id": "fd24d592",
   "metadata": {
    "execution": {
     "iopub.execute_input": "2025-01-05T20:30:44.931115Z",
     "iopub.status.busy": "2025-01-05T20:30:44.930735Z",
     "iopub.status.idle": "2025-01-05T20:30:44.935494Z",
     "shell.execute_reply": "2025-01-05T20:30:44.934286Z"
    },
    "papermill": {
     "duration": 0.025613,
     "end_time": "2025-01-05T20:30:44.937395",
     "exception": false,
     "start_time": "2025-01-05T20:30:44.911782",
     "status": "completed"
    },
    "tags": []
   },
   "outputs": [],
   "source": [
    "def calc_preds(coeffs, indeps): return torch.sigmoid(indeps@coeffs)"
   ]
  },
  {
   "cell_type": "code",
   "execution_count": 58,
   "id": "97cd6a4b",
   "metadata": {
    "execution": {
     "iopub.execute_input": "2025-01-05T20:30:44.976347Z",
     "iopub.status.busy": "2025-01-05T20:30:44.976006Z",
     "iopub.status.idle": "2025-01-05T20:30:44.981030Z",
     "shell.execute_reply": "2025-01-05T20:30:44.979737Z"
    },
    "papermill": {
     "duration": 0.026157,
     "end_time": "2025-01-05T20:30:44.982980",
     "exception": false,
     "start_time": "2025-01-05T20:30:44.956823",
     "status": "completed"
    },
    "tags": []
   },
   "outputs": [],
   "source": [
    "def init_coeffs(): return (torch.rand(n_coeff, 1)*0.1).requires_grad_() # now this is a matrix as well"
   ]
  },
  {
   "cell_type": "code",
   "execution_count": 59,
   "id": "62eedc69",
   "metadata": {
    "execution": {
     "iopub.execute_input": "2025-01-05T20:30:45.020687Z",
     "iopub.status.busy": "2025-01-05T20:30:45.020272Z",
     "iopub.status.idle": "2025-01-05T20:30:45.024870Z",
     "shell.execute_reply": "2025-01-05T20:30:45.023698Z"
    },
    "papermill": {
     "duration": 0.025626,
     "end_time": "2025-01-05T20:30:45.026637",
     "exception": false,
     "start_time": "2025-01-05T20:30:45.001011",
     "status": "completed"
    },
    "tags": []
   },
   "outputs": [],
   "source": [
    "trn_dep = trn_dep[:,None] # this notation in pytorch/numpy creates the next dimension from vector to a matrix\n",
    "val_dep = val_dep[:,None]"
   ]
  },
  {
   "cell_type": "code",
   "execution_count": 60,
   "id": "c10bb0f8",
   "metadata": {
    "execution": {
     "iopub.execute_input": "2025-01-05T20:30:45.064092Z",
     "iopub.status.busy": "2025-01-05T20:30:45.063710Z",
     "iopub.status.idle": "2025-01-05T20:30:45.069329Z",
     "shell.execute_reply": "2025-01-05T20:30:45.068312Z"
    },
    "papermill": {
     "duration": 0.026216,
     "end_time": "2025-01-05T20:30:45.071001",
     "exception": false,
     "start_time": "2025-01-05T20:30:45.044785",
     "status": "completed"
    },
    "tags": []
   },
   "outputs": [
    {
     "data": {
      "text/plain": [
       "torch.Size([712, 1])"
      ]
     },
     "execution_count": 60,
     "metadata": {},
     "output_type": "execute_result"
    }
   ],
   "source": [
    "trn_dep.shape"
   ]
  },
  {
   "cell_type": "code",
   "execution_count": 61,
   "id": "3d5235a8",
   "metadata": {
    "execution": {
     "iopub.execute_input": "2025-01-05T20:30:45.108360Z",
     "iopub.status.busy": "2025-01-05T20:30:45.107967Z",
     "iopub.status.idle": "2025-01-05T20:30:45.140970Z",
     "shell.execute_reply": "2025-01-05T20:30:45.139883Z"
    },
    "papermill": {
     "duration": 0.053645,
     "end_time": "2025-01-05T20:30:45.142679",
     "exception": false,
     "start_time": "2025-01-05T20:30:45.089034",
     "status": "completed"
    },
    "tags": []
   },
   "outputs": [
    {
     "name": "stdout",
     "output_type": "stream",
     "text": [
      "0.513; 0.322; 0.324; 0.324; 0.322; 0.311; 0.278; 0.267; 0.232; 0.208; 0.208; 0.208; 0.208; 0.207; 0.205; 0.202; 0.200; 0.198; 0.198; 0.198; 0.198; 0.198; 0.198; 0.198; 0.198; 0.198; 0.198; 0.197; 0.195; 0.188; "
     ]
    }
   ],
   "source": [
    "coeffs = train_model(lr=100)"
   ]
  },
  {
   "cell_type": "code",
   "execution_count": 62,
   "id": "e7ad81cd",
   "metadata": {
    "execution": {
     "iopub.execute_input": "2025-01-05T20:30:45.180905Z",
     "iopub.status.busy": "2025-01-05T20:30:45.180497Z",
     "iopub.status.idle": "2025-01-05T20:30:45.187730Z",
     "shell.execute_reply": "2025-01-05T20:30:45.186692Z"
    },
    "papermill": {
     "duration": 0.028133,
     "end_time": "2025-01-05T20:30:45.189413",
     "exception": false,
     "start_time": "2025-01-05T20:30:45.161280",
     "status": "completed"
    },
    "tags": []
   },
   "outputs": [
    {
     "data": {
      "text/plain": [
       "tensor(0.7933)"
      ]
     },
     "execution_count": 62,
     "metadata": {},
     "output_type": "execute_result"
    }
   ],
   "source": [
    "acc(coeffs)"
   ]
  },
  {
   "cell_type": "markdown",
   "id": "cc5cae4f",
   "metadata": {
    "papermill": {
     "duration": 0.017679,
     "end_time": "2025-01-05T20:30:45.225470",
     "exception": false,
     "start_time": "2025-01-05T20:30:45.207791",
     "status": "completed"
    },
    "tags": []
   },
   "source": [
    "## A neural network"
   ]
  },
  {
   "cell_type": "code",
   "execution_count": 63,
   "id": "3966cd26",
   "metadata": {
    "execution": {
     "iopub.execute_input": "2025-01-05T20:30:45.263681Z",
     "iopub.status.busy": "2025-01-05T20:30:45.263287Z",
     "iopub.status.idle": "2025-01-05T20:30:45.268431Z",
     "shell.execute_reply": "2025-01-05T20:30:45.267467Z"
    },
    "papermill": {
     "duration": 0.026462,
     "end_time": "2025-01-05T20:30:45.270122",
     "exception": false,
     "start_time": "2025-01-05T20:30:45.243660",
     "status": "completed"
    },
    "tags": []
   },
   "outputs": [],
   "source": [
    "def init_coeffs(n_hidden=20):\n",
    "    layer1 = (torch.rand(n_coeff, n_hidden)-0.5)/n_hidden # to make gradients smaller, every coefficient has n_hidden cols now\n",
    "    layer2 = torch.rand(n_hidden, 1)-0.3\n",
    "    const = torch.rand(1)[0] # no constant term for the first layer (because dummys have n cols rather than n-1) # Layer 2 needs a constant term\n",
    "    return layer1.requires_grad_(),layer2.requires_grad_(),const.requires_grad_()"
   ]
  },
  {
   "cell_type": "code",
   "execution_count": 64,
   "id": "36cc7324",
   "metadata": {
    "execution": {
     "iopub.execute_input": "2025-01-05T20:30:45.307818Z",
     "iopub.status.busy": "2025-01-05T20:30:45.307437Z",
     "iopub.status.idle": "2025-01-05T20:30:45.312246Z",
     "shell.execute_reply": "2025-01-05T20:30:45.311367Z"
    },
    "papermill": {
     "duration": 0.025358,
     "end_time": "2025-01-05T20:30:45.313783",
     "exception": false,
     "start_time": "2025-01-05T20:30:45.288425",
     "status": "completed"
    },
    "tags": []
   },
   "outputs": [],
   "source": [
    "import torch.nn.functional as F\n",
    "\n",
    "def calc_preds(coeffs, indeps):\n",
    "    l1,l2,const = coeffs\n",
    "    res = F.relu(indeps@l1)\n",
    "    res = res@l2 + const\n",
    "    return torch.sigmoid(res)"
   ]
  },
  {
   "cell_type": "code",
   "execution_count": 65,
   "id": "3f5bf15b",
   "metadata": {
    "execution": {
     "iopub.execute_input": "2025-01-05T20:30:45.351643Z",
     "iopub.status.busy": "2025-01-05T20:30:45.351241Z",
     "iopub.status.idle": "2025-01-05T20:30:45.355798Z",
     "shell.execute_reply": "2025-01-05T20:30:45.354772Z"
    },
    "papermill": {
     "duration": 0.025319,
     "end_time": "2025-01-05T20:30:45.357557",
     "exception": false,
     "start_time": "2025-01-05T20:30:45.332238",
     "status": "completed"
    },
    "tags": []
   },
   "outputs": [],
   "source": [
    "def update_coeffs(coeffs, lr): # for every set of coeffs the gradients need to be adjusted\n",
    "    for layer in coeffs:\n",
    "        layer.sub_(layer.grad * lr)\n",
    "        layer.grad.zero_()"
   ]
  },
  {
   "cell_type": "code",
   "execution_count": 66,
   "id": "470fc557",
   "metadata": {
    "execution": {
     "iopub.execute_input": "2025-01-05T20:30:45.395961Z",
     "iopub.status.busy": "2025-01-05T20:30:45.395549Z",
     "iopub.status.idle": "2025-01-05T20:30:45.441924Z",
     "shell.execute_reply": "2025-01-05T20:30:45.440789Z"
    },
    "papermill": {
     "duration": 0.067207,
     "end_time": "2025-01-05T20:30:45.443564",
     "exception": false,
     "start_time": "2025-01-05T20:30:45.376357",
     "status": "completed"
    },
    "tags": []
   },
   "outputs": [
    {
     "name": "stdout",
     "output_type": "stream",
     "text": [
      "0.544; 0.533; 0.520; 0.505; 0.487; 0.464; 0.436; 0.403; 0.369; 0.337; 0.313; 0.294; 0.279; 0.267; 0.257; 0.249; 0.243; 0.238; 0.234; 0.231; 0.228; 0.225; 0.223; 0.221; 0.220; 0.218; 0.217; 0.215; 0.214; 0.213; "
     ]
    }
   ],
   "source": [
    "coeffs = train_model(lr=1.4)"
   ]
  },
  {
   "cell_type": "code",
   "execution_count": 67,
   "id": "53609019",
   "metadata": {
    "execution": {
     "iopub.execute_input": "2025-01-05T20:30:45.482322Z",
     "iopub.status.busy": "2025-01-05T20:30:45.481978Z",
     "iopub.status.idle": "2025-01-05T20:30:45.488542Z",
     "shell.execute_reply": "2025-01-05T20:30:45.487663Z"
    },
    "papermill": {
     "duration": 0.027854,
     "end_time": "2025-01-05T20:30:45.490315",
     "exception": false,
     "start_time": "2025-01-05T20:30:45.462461",
     "status": "completed"
    },
    "tags": []
   },
   "outputs": [
    {
     "data": {
      "text/plain": [
       "tensor(0.7989)"
      ]
     },
     "execution_count": 67,
     "metadata": {},
     "output_type": "execute_result"
    }
   ],
   "source": [
    "acc(coeffs)"
   ]
  },
  {
   "cell_type": "markdown",
   "id": "044635eb",
   "metadata": {
    "papermill": {
     "duration": 0.018087,
     "end_time": "2025-01-05T20:30:45.526928",
     "exception": false,
     "start_time": "2025-01-05T20:30:45.508841",
     "status": "completed"
    },
    "tags": []
   },
   "source": [
    "## Deep Learning"
   ]
  },
  {
   "cell_type": "code",
   "execution_count": 68,
   "id": "c4d3f4dd",
   "metadata": {
    "execution": {
     "iopub.execute_input": "2025-01-05T20:30:45.565265Z",
     "iopub.status.busy": "2025-01-05T20:30:45.564884Z",
     "iopub.status.idle": "2025-01-05T20:30:45.570949Z",
     "shell.execute_reply": "2025-01-05T20:30:45.569809Z"
    },
    "papermill": {
     "duration": 0.027201,
     "end_time": "2025-01-05T20:30:45.572519",
     "exception": false,
     "start_time": "2025-01-05T20:30:45.545318",
     "status": "completed"
    },
    "tags": []
   },
   "outputs": [],
   "source": [
    "def init_coeffs():\n",
    "    hiddens = [10, 10]  # <-- set this to the size of each hidden layer you want\n",
    "    sizes = [n_coeff] + hiddens + [1] # n_coeffs,10 -> 10,10 -> 10,1\n",
    "    n = len(sizes)\n",
    "    layers = [(torch.rand(sizes[i], sizes[i+1])-0.3)/sizes[i+1]*4 for i in range(n-1)]\n",
    "    consts = [(torch.rand(1)[0]-0.5)*0.1 for i in range(n-1)]\n",
    "    for l in layers+consts: l.requires_grad_()\n",
    "    return layers,consts"
   ]
  },
  {
   "cell_type": "code",
   "execution_count": 69,
   "id": "49c38f81",
   "metadata": {
    "execution": {
     "iopub.execute_input": "2025-01-05T20:30:45.611191Z",
     "iopub.status.busy": "2025-01-05T20:30:45.610801Z",
     "iopub.status.idle": "2025-01-05T20:30:45.616136Z",
     "shell.execute_reply": "2025-01-05T20:30:45.615039Z"
    },
    "papermill": {
     "duration": 0.026401,
     "end_time": "2025-01-05T20:30:45.617768",
     "exception": false,
     "start_time": "2025-01-05T20:30:45.591367",
     "status": "completed"
    },
    "tags": []
   },
   "outputs": [],
   "source": [
    "import torch.nn.functional as F\n",
    "\n",
    "def calc_preds(coeffs, indeps):\n",
    "    layers,consts = coeffs\n",
    "    n = len(layers)\n",
    "    res = indeps\n",
    "    for i,l in enumerate(layers):\n",
    "        res = res@l + consts[i]\n",
    "        if i!=n-1: res = F.relu(res)\n",
    "    return torch.sigmoid(res)"
   ]
  },
  {
   "cell_type": "code",
   "execution_count": 70,
   "id": "ce006ab5",
   "metadata": {
    "execution": {
     "iopub.execute_input": "2025-01-05T20:30:45.657026Z",
     "iopub.status.busy": "2025-01-05T20:30:45.656553Z",
     "iopub.status.idle": "2025-01-05T20:30:45.661233Z",
     "shell.execute_reply": "2025-01-05T20:30:45.660203Z"
    },
    "papermill": {
     "duration": 0.026666,
     "end_time": "2025-01-05T20:30:45.663065",
     "exception": false,
     "start_time": "2025-01-05T20:30:45.636399",
     "status": "completed"
    },
    "tags": []
   },
   "outputs": [],
   "source": [
    "def update_coeffs(coeffs, lr):\n",
    "    layers,consts = coeffs\n",
    "    for layer in layers+consts:\n",
    "        layer.sub_(layer.grad * lr)\n",
    "        layer.grad.zero_()"
   ]
  },
  {
   "cell_type": "code",
   "execution_count": 71,
   "id": "be7f747d",
   "metadata": {
    "execution": {
     "iopub.execute_input": "2025-01-05T20:30:45.702748Z",
     "iopub.status.busy": "2025-01-05T20:30:45.702359Z",
     "iopub.status.idle": "2025-01-05T20:30:45.741488Z",
     "shell.execute_reply": "2025-01-05T20:30:45.740409Z"
    },
    "papermill": {
     "duration": 0.060331,
     "end_time": "2025-01-05T20:30:45.743403",
     "exception": false,
     "start_time": "2025-01-05T20:30:45.683072",
     "status": "completed"
    },
    "tags": []
   },
   "outputs": [
    {
     "name": "stdout",
     "output_type": "stream",
     "text": [
      "0.522; 0.463; 0.365; 0.319; 0.270; 0.239; 0.227; 0.219; 0.214; 0.211; 0.208; 0.205; 0.203; 0.201; 0.199; 0.198; 0.197; 0.195; 0.195; 0.194; 0.193; 0.192; 0.192; 0.191; 0.191; 0.190; 0.190; 0.190; 0.189; 0.189; "
     ]
    }
   ],
   "source": [
    "coeffs = train_model(lr=1.4)"
   ]
  },
  {
   "cell_type": "code",
   "execution_count": 72,
   "id": "8f112d4e",
   "metadata": {
    "execution": {
     "iopub.execute_input": "2025-01-05T20:30:45.784704Z",
     "iopub.status.busy": "2025-01-05T20:30:45.784249Z",
     "iopub.status.idle": "2025-01-05T20:30:45.792031Z",
     "shell.execute_reply": "2025-01-05T20:30:45.790871Z"
    },
    "papermill": {
     "duration": 0.030913,
     "end_time": "2025-01-05T20:30:45.793766",
     "exception": false,
     "start_time": "2025-01-05T20:30:45.762853",
     "status": "completed"
    },
    "tags": []
   },
   "outputs": [
    {
     "data": {
      "text/plain": [
       "tensor(0.7933)"
      ]
     },
     "execution_count": 72,
     "metadata": {},
     "output_type": "execute_result"
    }
   ],
   "source": [
    "acc(coeffs)"
   ]
  }
 ],
 "metadata": {
  "kaggle": {
   "accelerator": "none",
   "dataSources": [
    {
     "databundleVersionId": 26502,
     "sourceId": 3136,
     "sourceType": "competition"
    }
   ],
   "dockerImageVersionId": 30822,
   "isGpuEnabled": false,
   "isInternetEnabled": true,
   "language": "python",
   "sourceType": "notebook"
  },
  "kernelspec": {
   "display_name": "Python 3",
   "language": "python",
   "name": "python3"
  },
  "language_info": {
   "codemirror_mode": {
    "name": "ipython",
    "version": 3
   },
   "file_extension": ".py",
   "mimetype": "text/x-python",
   "name": "python",
   "nbconvert_exporter": "python",
   "pygments_lexer": "ipython3",
   "version": "3.10.12"
  },
  "papermill": {
   "default_parameters": {},
   "duration": 14.0783,
   "end_time": "2025-01-05T20:30:47.437150",
   "environment_variables": {},
   "exception": null,
   "input_path": "__notebook__.ipynb",
   "output_path": "__notebook__.ipynb",
   "parameters": {},
   "start_time": "2025-01-05T20:30:33.358850",
   "version": "2.6.0"
  }
 },
 "nbformat": 4,
 "nbformat_minor": 5
}
